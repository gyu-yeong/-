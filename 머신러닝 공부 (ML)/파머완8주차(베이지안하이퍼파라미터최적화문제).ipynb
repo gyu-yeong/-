{
 "cells": [
  {
   "cell_type": "code",
   "execution_count": 2,
   "id": "091c89c4",
   "metadata": {},
   "outputs": [
    {
     "name": "stdout",
     "output_type": "stream",
     "text": [
      "Collecting hyperopt\n",
      "  Downloading hyperopt-0.2.7-py2.py3-none-any.whl (1.6 MB)\n",
      "     ---------------------------------------- 1.6/1.6 MB 8.4 MB/s eta 0:00:00\n",
      "Requirement already satisfied: future in c:\\users\\user\\anaconda3\\lib\\site-packages (from hyperopt) (0.18.2)\n",
      "Requirement already satisfied: scipy in c:\\users\\user\\anaconda3\\lib\\site-packages (from hyperopt) (1.6.2)\n",
      "Requirement already satisfied: six in c:\\users\\user\\anaconda3\\lib\\site-packages (from hyperopt) (1.15.0)\n",
      "Requirement already satisfied: cloudpickle in c:\\users\\user\\anaconda3\\lib\\site-packages (from hyperopt) (1.6.0)\n",
      "Requirement already satisfied: numpy in c:\\users\\user\\anaconda3\\lib\\site-packages (from hyperopt) (1.20.1)\n",
      "Requirement already satisfied: tqdm in c:\\users\\user\\anaconda3\\lib\\site-packages (from hyperopt) (4.59.0)\n",
      "Requirement already satisfied: networkx>=2.2 in c:\\users\\user\\anaconda3\\lib\\site-packages (from hyperopt) (2.5)\n",
      "Collecting py4j\n",
      "  Downloading py4j-0.10.9.7-py2.py3-none-any.whl (200 kB)\n",
      "     -------------------------------------- 200.5/200.5 kB 6.1 MB/s eta 0:00:00\n",
      "Requirement already satisfied: decorator>=4.3.0 in c:\\users\\user\\anaconda3\\lib\\site-packages (from networkx>=2.2->hyperopt) (5.0.6)\n",
      "Installing collected packages: py4j, hyperopt\n",
      "Successfully installed hyperopt-0.2.7 py4j-0.10.9.7\n",
      "Note: you may need to restart the kernel to use updated packages.\n"
     ]
    }
   ],
   "source": [
    "pip install hyperopt"
   ]
  },
  {
   "cell_type": "code",
   "execution_count": 7,
   "id": "95a99735",
   "metadata": {},
   "outputs": [
    {
     "data": {
      "text/plain": [
       "'1.20.1'"
      ]
     },
     "execution_count": 7,
     "metadata": {},
     "output_type": "execute_result"
    }
   ],
   "source": [
    "np.__version__"
   ]
  },
  {
   "cell_type": "code",
   "execution_count": 3,
   "id": "242592b1",
   "metadata": {},
   "outputs": [],
   "source": [
    "from hyperopt import hp\n",
    "search_space = {'x':hp.quniform('x',-10,10,1), 'y':hp.quniform('y',-15,15,1)}"
   ]
  },
  {
   "cell_type": "code",
   "execution_count": 4,
   "id": "c65225a0",
   "metadata": {},
   "outputs": [],
   "source": [
    "from hyperopt import STATUS_OK\n",
    "\n",
    "def objective_func(search_space):\n",
    "  x = search_space['x']\n",
    "  y = search_space['y']\n",
    "  retval = x*2 - 20*y\n",
    "  \n",
    "  return retval"
   ]
  },
  {
   "cell_type": "code",
   "execution_count": 5,
   "id": "04cbf5fe",
   "metadata": {},
   "outputs": [
    {
     "name": "stdout",
     "output_type": "stream",
     "text": [
      "100%|█████████████████████████████████████████████████████████████| 5/5 [00:00<00:00, 290.44trial/s, best loss: -248.0]\n",
      "best: {'x': -4.0, 'y': 12.0}\n"
     ]
    }
   ],
   "source": [
    "from hyperopt import fmin, tpe, Trials\n",
    "import numpy as np\n",
    "\n",
    "trial_val = Trials()\n",
    "\n",
    "best_01 = fmin(fn=objective_func, space=search_space,algo=tpe.suggest,\n",
    "               max_evals=5, trials=trial_val, rstate=np.random.default_rng(seed=0))\n",
    "\n",
    "print('best:',best_01)"
   ]
  },
  {
   "cell_type": "code",
   "execution_count": 8,
   "id": "f4dfc8a8",
   "metadata": {},
   "outputs": [
    {
     "name": "stdout",
     "output_type": "stream",
     "text": [
      "100%|███████████████████████████████████████████████████████████| 20/20 [00:00<00:00, 393.22trial/s, best loss: -296.0]\n",
      "best: {'x': 2.0, 'y': 15.0}\n"
     ]
    }
   ],
   "source": [
    "trial_val = Trials()\n",
    "\n",
    "# max_evals를 20회로 늘려서 재테스트\n",
    "best_02 = fmin(fn=objective_func,    ## 목적 함수\n",
    "               space=search_space,   ## 검색 공간\n",
    "               algo=tpe.suggest,     ## 베이지안 최적화 적용 알고리즘 (기본 파라미터 tpe.suggest)\n",
    "               max_evals=20,         ## 입력 시도 횟수\n",
    "               trials=trial_val,     ## 시도한 입력 값 및 입력 결과 저장\n",
    "               rstate=np.random.default_rng(seed=0)   ## fmin()을 시도할 때마다 동일한 결과를 가질 수 있도록 설정하는 랜덤 시드\n",
    "               )\n",
    "print('best:', best_02)"
   ]
  },
  {
   "cell_type": "code",
   "execution_count": 9,
   "id": "b734fcfb",
   "metadata": {},
   "outputs": [
    {
     "name": "stdout",
     "output_type": "stream",
     "text": [
      "[{'loss': -112.0, 'status': 'ok'}, {'loss': -208.0, 'status': 'ok'}, {'loss': 48.0, 'status': 'ok'}, {'loss': -248.0, 'status': 'ok'}, {'loss': -2.0, 'status': 'ok'}, {'loss': -296.0, 'status': 'ok'}, {'loss': -120.0, 'status': 'ok'}, {'loss': 182.0, 'status': 'ok'}, {'loss': -16.0, 'status': 'ok'}, {'loss': 100.0, 'status': 'ok'}, {'loss': 60.0, 'status': 'ok'}, {'loss': -38.0, 'status': 'ok'}, {'loss': -62.0, 'status': 'ok'}, {'loss': -188.0, 'status': 'ok'}, {'loss': -42.0, 'status': 'ok'}, {'loss': -56.0, 'status': 'ok'}, {'loss': 276.0, 'status': 'ok'}, {'loss': 152.0, 'status': 'ok'}, {'loss': -206.0, 'status': 'ok'}, {'loss': 0.0, 'status': 'ok'}]\n"
     ]
    }
   ],
   "source": [
    "#fmin()에 인자로 들어가는 trials 객체의 result 속성에 파이썬 리스트로 목적 함수 반환값들이 저장됨\n",
    "#리스트 내부의 개별 원소는 {'loss':함수반환값,'status':반환 상태값} 형태의 딕셔너리\n",
    "\n",
    "print(trial_val.results)"
   ]
  },
  {
   "cell_type": "code",
   "execution_count": 10,
   "id": "dced7637",
   "metadata": {},
   "outputs": [
    {
     "name": "stdout",
     "output_type": "stream",
     "text": [
      "{'x': [-6.0, -4.0, 4.0, -4.0, 9.0, 2.0, 10.0, -9.0, -8.0, -0.0, -0.0, 1.0, 9.0, 6.0, 9.0, 2.0, -2.0, -4.0, 7.0, -0.0], 'y': [5.0, 10.0, -2.0, 12.0, 1.0, 15.0, 7.0, -10.0, 0.0, -5.0, -3.0, 2.0, 4.0, 10.0, 3.0, 3.0, -14.0, -8.0, 11.0, -0.0]}\n"
     ]
    }
   ],
   "source": [
    "print(trial_val.vals)"
   ]
  },
  {
   "cell_type": "code",
   "execution_count": 11,
   "id": "ab67e022",
   "metadata": {},
   "outputs": [
    {
     "data": {
      "text/html": [
       "<div>\n",
       "<style scoped>\n",
       "    .dataframe tbody tr th:only-of-type {\n",
       "        vertical-align: middle;\n",
       "    }\n",
       "\n",
       "    .dataframe tbody tr th {\n",
       "        vertical-align: top;\n",
       "    }\n",
       "\n",
       "    .dataframe thead th {\n",
       "        text-align: right;\n",
       "    }\n",
       "</style>\n",
       "<table border=\"1\" class=\"dataframe\">\n",
       "  <thead>\n",
       "    <tr style=\"text-align: right;\">\n",
       "      <th></th>\n",
       "      <th>x</th>\n",
       "      <th>y</th>\n",
       "      <th>losses</th>\n",
       "    </tr>\n",
       "  </thead>\n",
       "  <tbody>\n",
       "    <tr>\n",
       "      <th>0</th>\n",
       "      <td>-6.0</td>\n",
       "      <td>5.0</td>\n",
       "      <td>-112.0</td>\n",
       "    </tr>\n",
       "    <tr>\n",
       "      <th>1</th>\n",
       "      <td>-4.0</td>\n",
       "      <td>10.0</td>\n",
       "      <td>-208.0</td>\n",
       "    </tr>\n",
       "    <tr>\n",
       "      <th>2</th>\n",
       "      <td>4.0</td>\n",
       "      <td>-2.0</td>\n",
       "      <td>48.0</td>\n",
       "    </tr>\n",
       "    <tr>\n",
       "      <th>3</th>\n",
       "      <td>-4.0</td>\n",
       "      <td>12.0</td>\n",
       "      <td>-248.0</td>\n",
       "    </tr>\n",
       "    <tr>\n",
       "      <th>4</th>\n",
       "      <td>9.0</td>\n",
       "      <td>1.0</td>\n",
       "      <td>-2.0</td>\n",
       "    </tr>\n",
       "    <tr>\n",
       "      <th>5</th>\n",
       "      <td>2.0</td>\n",
       "      <td>15.0</td>\n",
       "      <td>-296.0</td>\n",
       "    </tr>\n",
       "    <tr>\n",
       "      <th>6</th>\n",
       "      <td>10.0</td>\n",
       "      <td>7.0</td>\n",
       "      <td>-120.0</td>\n",
       "    </tr>\n",
       "    <tr>\n",
       "      <th>7</th>\n",
       "      <td>-9.0</td>\n",
       "      <td>-10.0</td>\n",
       "      <td>182.0</td>\n",
       "    </tr>\n",
       "    <tr>\n",
       "      <th>8</th>\n",
       "      <td>-8.0</td>\n",
       "      <td>0.0</td>\n",
       "      <td>-16.0</td>\n",
       "    </tr>\n",
       "    <tr>\n",
       "      <th>9</th>\n",
       "      <td>-0.0</td>\n",
       "      <td>-5.0</td>\n",
       "      <td>100.0</td>\n",
       "    </tr>\n",
       "    <tr>\n",
       "      <th>10</th>\n",
       "      <td>-0.0</td>\n",
       "      <td>-3.0</td>\n",
       "      <td>60.0</td>\n",
       "    </tr>\n",
       "    <tr>\n",
       "      <th>11</th>\n",
       "      <td>1.0</td>\n",
       "      <td>2.0</td>\n",
       "      <td>-38.0</td>\n",
       "    </tr>\n",
       "    <tr>\n",
       "      <th>12</th>\n",
       "      <td>9.0</td>\n",
       "      <td>4.0</td>\n",
       "      <td>-62.0</td>\n",
       "    </tr>\n",
       "    <tr>\n",
       "      <th>13</th>\n",
       "      <td>6.0</td>\n",
       "      <td>10.0</td>\n",
       "      <td>-188.0</td>\n",
       "    </tr>\n",
       "    <tr>\n",
       "      <th>14</th>\n",
       "      <td>9.0</td>\n",
       "      <td>3.0</td>\n",
       "      <td>-42.0</td>\n",
       "    </tr>\n",
       "    <tr>\n",
       "      <th>15</th>\n",
       "      <td>2.0</td>\n",
       "      <td>3.0</td>\n",
       "      <td>-56.0</td>\n",
       "    </tr>\n",
       "    <tr>\n",
       "      <th>16</th>\n",
       "      <td>-2.0</td>\n",
       "      <td>-14.0</td>\n",
       "      <td>276.0</td>\n",
       "    </tr>\n",
       "    <tr>\n",
       "      <th>17</th>\n",
       "      <td>-4.0</td>\n",
       "      <td>-8.0</td>\n",
       "      <td>152.0</td>\n",
       "    </tr>\n",
       "    <tr>\n",
       "      <th>18</th>\n",
       "      <td>7.0</td>\n",
       "      <td>11.0</td>\n",
       "      <td>-206.0</td>\n",
       "    </tr>\n",
       "    <tr>\n",
       "      <th>19</th>\n",
       "      <td>-0.0</td>\n",
       "      <td>-0.0</td>\n",
       "      <td>0.0</td>\n",
       "    </tr>\n",
       "  </tbody>\n",
       "</table>\n",
       "</div>"
      ],
      "text/plain": [
       "       x     y  losses\n",
       "0   -6.0   5.0  -112.0\n",
       "1   -4.0  10.0  -208.0\n",
       "2    4.0  -2.0    48.0\n",
       "3   -4.0  12.0  -248.0\n",
       "4    9.0   1.0    -2.0\n",
       "5    2.0  15.0  -296.0\n",
       "6   10.0   7.0  -120.0\n",
       "7   -9.0 -10.0   182.0\n",
       "8   -8.0   0.0   -16.0\n",
       "9   -0.0  -5.0   100.0\n",
       "10  -0.0  -3.0    60.0\n",
       "11   1.0   2.0   -38.0\n",
       "12   9.0   4.0   -62.0\n",
       "13   6.0  10.0  -188.0\n",
       "14   9.0   3.0   -42.0\n",
       "15   2.0   3.0   -56.0\n",
       "16  -2.0 -14.0   276.0\n",
       "17  -4.0  -8.0   152.0\n",
       "18   7.0  11.0  -206.0\n",
       "19  -0.0  -0.0     0.0"
      ]
     },
     "execution_count": 11,
     "metadata": {},
     "output_type": "execute_result"
    }
   ],
   "source": [
    "import pandas as pd\n",
    "\n",
    "# results에서 loss 키값에 해당하는 밸류들을 추출하여 list로 생성. \n",
    "losses = [loss_dict['loss'] for loss_dict in trial_val.results]\n",
    "\n",
    "# DataFrame으로 생성.\n",
    "result_df = pd.DataFrame({'x': trial_val.vals['x'], \n",
    "                          'y': trial_val.vals['y'], 'losses': losses})\n",
    "result_df"
   ]
  },
  {
   "cell_type": "code",
   "execution_count": 12,
   "id": "53a81774",
   "metadata": {},
   "outputs": [
    {
     "data": {
      "text/plain": [
       "<AxesSubplot:>"
      ]
     },
     "execution_count": 12,
     "metadata": {},
     "output_type": "execute_result"
    },
    {
     "data": {
      "image/png": "[encoded data removed]",
      "text/plain": [
       "<Figure size 432x288 with 1 Axes>"
      ]
     },
     "metadata": {
      "needs_background": "light"
     },
     "output_type": "display_data"
    }
   ],
   "source": [
    "result_df.plot()"
   ]
  },
  {
   "cell_type": "markdown",
   "id": "26768e58",
   "metadata": {},
   "source": [
    "### **-HyperOpt를 이용한 xgboost 하이퍼 파라미터 최적화**\n",
    "\n",
    "#### 주의사항\n",
    "#### 1. 특정 하이퍼 파라미터들은 정숫값만 입력받아야하는데 hyperopt는 입력값, 반환값 모두 실수형이라 type 변환 필요\n",
    "#### 2. 최댓값을 최적화 하는 경우엔 -1곱해줘야 함"
   ]
  },
  {
   "cell_type": "code",
   "execution_count": 13,
   "id": "695dc2ea",
   "metadata": {},
   "outputs": [],
   "source": [
    "# 아래 코드는 이전에 수록된 코드라 책에는 싣지 않았습니다. \n",
    "import pandas as pd\n",
    "import numpy as np\n",
    "from sklearn.datasets import load_breast_cancer\n",
    "from sklearn.model_selection import train_test_split\n",
    "import warnings\n",
    "warnings.filterwarnings('ignore')\n",
    "\n",
    "dataset = load_breast_cancer()\n",
    "\n",
    "cancer_df = pd.DataFrame(data=dataset.data, columns=dataset.feature_names)\n",
    "cancer_df['target']= dataset.target\n",
    "X_features = cancer_df.iloc[:, :-1]\n",
    "y_label = cancer_df.iloc[:, -1]"
   ]
  },
  {
   "cell_type": "code",
   "execution_count": 14,
   "id": "1f488e91",
   "metadata": {},
   "outputs": [],
   "source": [
    "# 전체 데이터 중 80%는 학습용 데이터, 20%는 테스트용 데이터 추출\n",
    "X_train, X_test, y_train, y_test=train_test_split(X_features, y_label, test_size=0.2, random_state=156 )\n",
    "\n",
    "# 앞에서 추출한 학습 데이터를 다시 학습과 검증 데이터로 분리\n",
    "X_tr, X_val, y_tr, y_val= train_test_split(X_train, y_train, test_size=0.1, random_state=156 )"
   ]
  },
  {
   "cell_type": "markdown",
   "id": "71699ac1",
   "metadata": {},
   "source": [
    "##### 1. 검색공간 설정"
   ]
  },
  {
   "cell_type": "code",
   "execution_count": 15,
   "id": "2f7b8804",
   "metadata": {},
   "outputs": [],
   "source": [
    "from hyperopt import hp\n",
    "\n",
    "# max_depth는 5에서 20까지 1간격으로, min_child_weight는 1에서 2까지 1간격으로 (quniform)\n",
    "# colsample_bytree는 0.5에서 1사이, learning_rate는 0.01에서 0.2 사이 정규 분포된 값으로 검색. (uniform)\n",
    "xgb_search_space = {'max_depth': hp.quniform('max_depth', 5, 20, 1), ## 정수형 하이퍼 파라미터 => quniform 사용\n",
    "                    'min_child_weight': hp.quniform('min_child_weight', 1, 2, 1), ## 정수형 하이퍼 파라미터 => quniform 사용\n",
    "                    'learning_rate': hp.uniform('learning_rate', 0.01, 0.2),\n",
    "                    'colsample_bytree': hp.uniform('colsample_bytree', 0.5, 1),\n",
    "                   }"
   ]
  },
  {
   "cell_type": "markdown",
   "id": "f8a57092",
   "metadata": {},
   "source": [
    "##### 2. 목적함수 설정"
   ]
  },
  {
   "cell_type": "code",
   "execution_count": 16,
   "id": "1f7a9bff",
   "metadata": {},
   "outputs": [],
   "source": [
    "from sklearn.model_selection import cross_val_score\n",
    "from xgboost import XGBClassifier\n",
    "from hyperopt import STATUS_OK"
   ]
  },
  {
   "cell_type": "markdown",
   "id": "0e35ebaf",
   "metadata": {},
   "source": [
    "####  fmin()에서 입력된 search_space 값으로 입력된 모든 값은 실수형임.\n",
    "#### XGBClassifier의 정수형 하이퍼 파라미터는 **정수형 변환을 해줘야 함.**\n",
    "#### 따라서 하이퍼파라미터가 받는 숫자가 정수형인지, 실수형인지 살펴볼 것\n",
    "#### **정확도는 높을수록 더 좋은 수치임. -1x정확도를 곱해서 큰 정확도 값일수록 최소가 되도록 변환**"
   ]
  },
  {
   "cell_type": "code",
   "execution_count": 17,
   "id": "76113be1",
   "metadata": {},
   "outputs": [],
   "source": [
    "def objective_func(search_space):\n",
    "    # 수행 시간 절약을 위해 nestimators는 100으로 축소\n",
    "    xgb_clf = XGBClassifier(n_estimators=100, max_depth=int(search_space['max_depth']),\n",
    "                            min_child_weight=int(search_space['min_child_weight']), #int붙이기\n",
    "                            learning_rate=search_space['learning_rate'],\n",
    "                            colsample_bytree=search_space['colsample_bytree'],\n",
    "                            eval_metric='logloss')\n",
    "    accuracy = cross_val_score(xgb_clf, X_train, y_train, scoring='accuracy', cv=3) #교차검증표 함수 사용\n",
    "    \n",
    "    # accuracy는 cv=3 개수만큼 roc-auc 결과를 리스트로 가짐. 이를 평균해서 반환하되 -1을 곱함.\n",
    "    return {'loss':-1 * np.mean(accuracy), 'status': STATUS_OK} #-1곱하기,"
   ]
  },
  {
   "cell_type": "markdown",
   "id": "467433c3",
   "metadata": {},
   "source": [
    "##### 3. fmin()함수를 이용해 최적화 함수 찾기"
   ]
  },
  {
   "cell_type": "code",
   "execution_count": 18,
   "id": "7e1ebcda",
   "metadata": {},
   "outputs": [
    {
     "name": "stdout",
     "output_type": "stream",
     "text": [
      "100%|███████████████████████████████████████████████| 50/50 [00:31<00:00,  1.61trial/s, best loss: -0.9714476588823051]\n",
      "best: {'colsample_bytree': 0.500801678525394, 'learning_rate': 0.19789859485936773, 'max_depth': 18.0, 'min_child_weight': 2.0}\n"
     ]
    }
   ],
   "source": [
    "from hyperopt import fmin, tpe, Trials\n",
    "\n",
    "trial_val = Trials()\n",
    "best = fmin(fn=objective_func, #목적함수\n",
    "            space=xgb_search_space, #하이퍼파라미터 검생공간\n",
    "            algo=tpe.suggest,\n",
    "            max_evals=50, # 최대 반복 횟수를 지정합니다.\n",
    "            trials=trial_val, #rstate=np.random.default_rng(seed=0)\n",
    "            )\n",
    "print('best:', best)"
   ]
  },
  {
   "cell_type": "markdown",
   "id": "5cb32ef0",
   "metadata": {},
   "source": [
    "#### 정수형 파라미터인 max_depth, min_child_weight가 실수형으로 도출됨 -> 앞에서 말한 int붙인건 3.2313 이런값 안나오게 하기 위함\n",
    "#### 형변환 필요"
   ]
  },
  {
   "cell_type": "code",
   "execution_count": 20,
   "id": "60832797",
   "metadata": {},
   "outputs": [
    {
     "name": "stdout",
     "output_type": "stream",
     "text": [
      "colsample_bytree:0.5008, learning_rate:0.1979, max_depth:18, min_child_weight:2\n"
     ]
    }
   ],
   "source": [
    "print('colsample_bytree:{0}, learning_rate:{1}, max_depth:{2}, min_child_weight:{3}'.format(\n",
    "    round(best['colsample_bytree'], 5), round(best['learning_rate'], 5),\n",
    "    int(best['max_depth']), int(best['min_child_weight'])))"
   ]
  },
  {
   "cell_type": "markdown",
   "id": "d8d1513a",
   "metadata": {},
   "source": [
    "##### 4. 획득한 최적의 하이퍼 파라미터를 이용하여 XGBoost의 인자로 입력"
   ]
  },
  {
   "cell_type": "code",
   "execution_count": 21,
   "id": "7acbd3b9",
   "metadata": {},
   "outputs": [],
   "source": [
    "from sklearn.metrics import confusion_matrix, accuracy_score\n",
    "from sklearn.metrics import precision_score, recall_score\n",
    "from sklearn.metrics import f1_score, roc_auc_score\n",
    "\n",
    "def get_clf_eval(y_test, pred=None, pred_proba=None):\n",
    "    confusion = confusion_matrix( y_test, pred)\n",
    "    accuracy = accuracy_score(y_test , pred)\n",
    "    precision = precision_score(y_test , pred)\n",
    "    recall = recall_score(y_test , pred)\n",
    "    f1 = f1_score(y_test,pred)\n",
    "    # ROC-AUC 추가 \n",
    "    roc_auc = roc_auc_score(y_test, pred_proba)\n",
    "    print('오차 행렬')\n",
    "    print(confusion)\n",
    "    # ROC-AUC print 추가\n",
    "    print('정확도: {0:.4f}, 정밀도: {1:.4f}, 재현율: {2:.4f},\\\n",
    "    F1: {3:.4f}, AUC:{4:.4f}'.format(accuracy, precision, recall, f1, roc_auc))"
   ]
  },
  {
   "cell_type": "code",
   "execution_count": 22,
   "id": "12463191",
   "metadata": {},
   "outputs": [
    {
     "name": "stdout",
     "output_type": "stream",
     "text": [
      "[0]\tvalidation_0-logloss:0.53619\tvalidation_1-logloss:0.58435\n",
      "[1]\tvalidation_0-logloss:0.42801\tvalidation_1-logloss:0.50457\n",
      "[2]\tvalidation_0-logloss:0.34833\tvalidation_1-logloss:0.44614\n",
      "[3]\tvalidation_0-logloss:0.28906\tvalidation_1-logloss:0.40997\n",
      "[4]\tvalidation_0-logloss:0.24191\tvalidation_1-logloss:0.38158\n",
      "[5]\tvalidation_0-logloss:0.20629\tvalidation_1-logloss:0.36414\n",
      "[6]\tvalidation_0-logloss:0.17610\tvalidation_1-logloss:0.34030\n",
      "[7]\tvalidation_0-logloss:0.15290\tvalidation_1-logloss:0.32754\n",
      "[8]\tvalidation_0-logloss:0.13387\tvalidation_1-logloss:0.31121\n",
      "[9]\tvalidation_0-logloss:0.11656\tvalidation_1-logloss:0.30058\n",
      "[10]\tvalidation_0-logloss:0.10280\tvalidation_1-logloss:0.29384\n",
      "[11]\tvalidation_0-logloss:0.09049\tvalidation_1-logloss:0.27989\n",
      "[12]\tvalidation_0-logloss:0.08218\tvalidation_1-logloss:0.27734\n",
      "[13]\tvalidation_0-logloss:0.07291\tvalidation_1-logloss:0.26603\n",
      "[14]\tvalidation_0-logloss:0.06740\tvalidation_1-logloss:0.26731\n",
      "[15]\tvalidation_0-logloss:0.06271\tvalidation_1-logloss:0.26637\n",
      "[16]\tvalidation_0-logloss:0.05818\tvalidation_1-logloss:0.26118\n",
      "[17]\tvalidation_0-logloss:0.05468\tvalidation_1-logloss:0.26150\n",
      "[18]\tvalidation_0-logloss:0.05033\tvalidation_1-logloss:0.26170\n",
      "[19]\tvalidation_0-logloss:0.04770\tvalidation_1-logloss:0.26211\n",
      "[20]\tvalidation_0-logloss:0.04430\tvalidation_1-logloss:0.26821\n",
      "[21]\tvalidation_0-logloss:0.04121\tvalidation_1-logloss:0.27326\n",
      "[22]\tvalidation_0-logloss:0.03901\tvalidation_1-logloss:0.27193\n",
      "[23]\tvalidation_0-logloss:0.03733\tvalidation_1-logloss:0.27367\n",
      "[24]\tvalidation_0-logloss:0.03538\tvalidation_1-logloss:0.26497\n",
      "[25]\tvalidation_0-logloss:0.03357\tvalidation_1-logloss:0.26023\n",
      "[26]\tvalidation_0-logloss:0.03204\tvalidation_1-logloss:0.25588\n",
      "[27]\tvalidation_0-logloss:0.03102\tvalidation_1-logloss:0.25681\n",
      "[28]\tvalidation_0-logloss:0.02998\tvalidation_1-logloss:0.25747\n",
      "[29]\tvalidation_0-logloss:0.02916\tvalidation_1-logloss:0.25613\n",
      "[30]\tvalidation_0-logloss:0.02827\tvalidation_1-logloss:0.25742\n",
      "[31]\tvalidation_0-logloss:0.02739\tvalidation_1-logloss:0.25634\n",
      "[32]\tvalidation_0-logloss:0.02663\tvalidation_1-logloss:0.25733\n",
      "[33]\tvalidation_0-logloss:0.02597\tvalidation_1-logloss:0.25678\n",
      "[34]\tvalidation_0-logloss:0.02538\tvalidation_1-logloss:0.25020\n",
      "[35]\tvalidation_0-logloss:0.02477\tvalidation_1-logloss:0.24759\n",
      "[36]\tvalidation_0-logloss:0.02414\tvalidation_1-logloss:0.24795\n",
      "[37]\tvalidation_0-logloss:0.02373\tvalidation_1-logloss:0.24800\n",
      "[38]\tvalidation_0-logloss:0.02321\tvalidation_1-logloss:0.25063\n",
      "[39]\tvalidation_0-logloss:0.02268\tvalidation_1-logloss:0.25168\n",
      "[40]\tvalidation_0-logloss:0.02245\tvalidation_1-logloss:0.25450\n",
      "[41]\tvalidation_0-logloss:0.02220\tvalidation_1-logloss:0.25227\n",
      "[42]\tvalidation_0-logloss:0.02159\tvalidation_1-logloss:0.24778\n",
      "[43]\tvalidation_0-logloss:0.02139\tvalidation_1-logloss:0.24723\n",
      "[44]\tvalidation_0-logloss:0.02119\tvalidation_1-logloss:0.24531\n",
      "[45]\tvalidation_0-logloss:0.02098\tvalidation_1-logloss:0.24815\n",
      "[46]\tvalidation_0-logloss:0.02077\tvalidation_1-logloss:0.24813\n",
      "[47]\tvalidation_0-logloss:0.02057\tvalidation_1-logloss:0.24896\n",
      "[48]\tvalidation_0-logloss:0.02042\tvalidation_1-logloss:0.24845\n",
      "[49]\tvalidation_0-logloss:0.02022\tvalidation_1-logloss:0.25123\n",
      "[50]\tvalidation_0-logloss:0.02006\tvalidation_1-logloss:0.24747\n",
      "[51]\tvalidation_0-logloss:0.01990\tvalidation_1-logloss:0.24411\n",
      "[52]\tvalidation_0-logloss:0.01973\tvalidation_1-logloss:0.24493\n",
      "[53]\tvalidation_0-logloss:0.01959\tvalidation_1-logloss:0.24654\n",
      "[54]\tvalidation_0-logloss:0.01944\tvalidation_1-logloss:0.24438\n",
      "[55]\tvalidation_0-logloss:0.01928\tvalidation_1-logloss:0.24697\n",
      "[56]\tvalidation_0-logloss:0.01912\tvalidation_1-logloss:0.24509\n",
      "[57]\tvalidation_0-logloss:0.01898\tvalidation_1-logloss:0.24202\n",
      "[58]\tvalidation_0-logloss:0.01883\tvalidation_1-logloss:0.24204\n",
      "[59]\tvalidation_0-logloss:0.01868\tvalidation_1-logloss:0.24462\n",
      "[60]\tvalidation_0-logloss:0.01856\tvalidation_1-logloss:0.24466\n",
      "[61]\tvalidation_0-logloss:0.01843\tvalidation_1-logloss:0.24299\n",
      "[62]\tvalidation_0-logloss:0.01830\tvalidation_1-logloss:0.24260\n",
      "[63]\tvalidation_0-logloss:0.01819\tvalidation_1-logloss:0.24078\n",
      "[64]\tvalidation_0-logloss:0.01804\tvalidation_1-logloss:0.24334\n",
      "[65]\tvalidation_0-logloss:0.01793\tvalidation_1-logloss:0.24478\n",
      "[66]\tvalidation_0-logloss:0.01781\tvalidation_1-logloss:0.24140\n",
      "[67]\tvalidation_0-logloss:0.01770\tvalidation_1-logloss:0.24366\n",
      "[68]\tvalidation_0-logloss:0.01759\tvalidation_1-logloss:0.24213\n",
      "[69]\tvalidation_0-logloss:0.01749\tvalidation_1-logloss:0.24104\n",
      "[70]\tvalidation_0-logloss:0.01738\tvalidation_1-logloss:0.24105\n",
      "[71]\tvalidation_0-logloss:0.01727\tvalidation_1-logloss:0.24203\n",
      "[72]\tvalidation_0-logloss:0.01717\tvalidation_1-logloss:0.24166\n",
      "[73]\tvalidation_0-logloss:0.01707\tvalidation_1-logloss:0.24308\n",
      "[74]\tvalidation_0-logloss:0.01696\tvalidation_1-logloss:0.23990\n",
      "[75]\tvalidation_0-logloss:0.01686\tvalidation_1-logloss:0.23817\n",
      "[76]\tvalidation_0-logloss:0.01676\tvalidation_1-logloss:0.23977\n",
      "[77]\tvalidation_0-logloss:0.01667\tvalidation_1-logloss:0.23816\n",
      "[78]\tvalidation_0-logloss:0.01657\tvalidation_1-logloss:0.23822\n",
      "[79]\tvalidation_0-logloss:0.01648\tvalidation_1-logloss:0.23689\n",
      "[80]\tvalidation_0-logloss:0.01640\tvalidation_1-logloss:0.23655\n",
      "[81]\tvalidation_0-logloss:0.01632\tvalidation_1-logloss:0.23562\n",
      "[82]\tvalidation_0-logloss:0.01625\tvalidation_1-logloss:0.23448\n",
      "[83]\tvalidation_0-logloss:0.01618\tvalidation_1-logloss:0.23619\n",
      "[84]\tvalidation_0-logloss:0.01610\tvalidation_1-logloss:0.23625\n",
      "[85]\tvalidation_0-logloss:0.01602\tvalidation_1-logloss:0.23734\n",
      "[86]\tvalidation_0-logloss:0.01594\tvalidation_1-logloss:0.23752\n",
      "[87]\tvalidation_0-logloss:0.01585\tvalidation_1-logloss:0.23481\n",
      "[88]\tvalidation_0-logloss:0.01578\tvalidation_1-logloss:0.23364\n",
      "[89]\tvalidation_0-logloss:0.01571\tvalidation_1-logloss:0.23385\n",
      "[90]\tvalidation_0-logloss:0.01564\tvalidation_1-logloss:0.23489\n",
      "[91]\tvalidation_0-logloss:0.01556\tvalidation_1-logloss:0.23452\n",
      "[92]\tvalidation_0-logloss:0.01550\tvalidation_1-logloss:0.23208\n",
      "[93]\tvalidation_0-logloss:0.01543\tvalidation_1-logloss:0.23182\n",
      "[94]\tvalidation_0-logloss:0.01537\tvalidation_1-logloss:0.23283\n",
      "[95]\tvalidation_0-logloss:0.01530\tvalidation_1-logloss:0.23288\n",
      "[96]\tvalidation_0-logloss:0.01523\tvalidation_1-logloss:0.23178\n",
      "[97]\tvalidation_0-logloss:0.01517\tvalidation_1-logloss:0.23416\n",
      "[98]\tvalidation_0-logloss:0.01511\tvalidation_1-logloss:0.23315\n",
      "[99]\tvalidation_0-logloss:0.01505\tvalidation_1-logloss:0.23520\n",
      "[100]\tvalidation_0-logloss:0.01499\tvalidation_1-logloss:0.23619\n",
      "[101]\tvalidation_0-logloss:0.01493\tvalidation_1-logloss:0.23619\n",
      "[102]\tvalidation_0-logloss:0.01486\tvalidation_1-logloss:0.23378\n",
      "[103]\tvalidation_0-logloss:0.01481\tvalidation_1-logloss:0.23405\n",
      "[104]\tvalidation_0-logloss:0.01475\tvalidation_1-logloss:0.23322\n",
      "[105]\tvalidation_0-logloss:0.01470\tvalidation_1-logloss:0.23370\n",
      "[106]\tvalidation_0-logloss:0.01464\tvalidation_1-logloss:0.23270\n",
      "[107]\tvalidation_0-logloss:0.01458\tvalidation_1-logloss:0.23230\n",
      "[108]\tvalidation_0-logloss:0.01453\tvalidation_1-logloss:0.23329\n",
      "[109]\tvalidation_0-logloss:0.01447\tvalidation_1-logloss:0.23110\n",
      "[110]\tvalidation_0-logloss:0.01442\tvalidation_1-logloss:0.23298\n",
      "[111]\tvalidation_0-logloss:0.01436\tvalidation_1-logloss:0.23263\n",
      "[112]\tvalidation_0-logloss:0.01432\tvalidation_1-logloss:0.23170\n",
      "[113]\tvalidation_0-logloss:0.01426\tvalidation_1-logloss:0.23200\n",
      "[114]\tvalidation_0-logloss:0.01422\tvalidation_1-logloss:0.23370\n",
      "[115]\tvalidation_0-logloss:0.01416\tvalidation_1-logloss:0.23403\n",
      "[116]\tvalidation_0-logloss:0.01412\tvalidation_1-logloss:0.23319\n",
      "[117]\tvalidation_0-logloss:0.01407\tvalidation_1-logloss:0.23364\n",
      "[118]\tvalidation_0-logloss:0.01402\tvalidation_1-logloss:0.23284\n",
      "[119]\tvalidation_0-logloss:0.01398\tvalidation_1-logloss:0.23312\n",
      "[120]\tvalidation_0-logloss:0.01393\tvalidation_1-logloss:0.23228\n",
      "[121]\tvalidation_0-logloss:0.01389\tvalidation_1-logloss:0.23391\n",
      "[122]\tvalidation_0-logloss:0.01384\tvalidation_1-logloss:0.23353\n",
      "[123]\tvalidation_0-logloss:0.01379\tvalidation_1-logloss:0.23385\n",
      "[124]\tvalidation_0-logloss:0.01375\tvalidation_1-logloss:0.23355\n",
      "[125]\tvalidation_0-logloss:0.01371\tvalidation_1-logloss:0.23270\n",
      "[126]\tvalidation_0-logloss:0.01367\tvalidation_1-logloss:0.23299\n",
      "[127]\tvalidation_0-logloss:0.01362\tvalidation_1-logloss:0.23216\n",
      "[128]\tvalidation_0-logloss:0.01358\tvalidation_1-logloss:0.23310\n",
      "[129]\tvalidation_0-logloss:0.01354\tvalidation_1-logloss:0.23279\n",
      "[130]\tvalidation_0-logloss:0.01350\tvalidation_1-logloss:0.23242\n",
      "[131]\tvalidation_0-logloss:0.01347\tvalidation_1-logloss:0.23272\n",
      "[132]\tvalidation_0-logloss:0.01343\tvalidation_1-logloss:0.23194\n",
      "[133]\tvalidation_0-logloss:0.01340\tvalidation_1-logloss:0.23351\n",
      "[134]\tvalidation_0-logloss:0.01335\tvalidation_1-logloss:0.23319\n",
      "[135]\tvalidation_0-logloss:0.01332\tvalidation_1-logloss:0.23249\n",
      "[136]\tvalidation_0-logloss:0.01328\tvalidation_1-logloss:0.23338\n",
      "[137]\tvalidation_0-logloss:0.01325\tvalidation_1-logloss:0.23265\n",
      "[138]\tvalidation_0-logloss:0.01322\tvalidation_1-logloss:0.23235\n",
      "[139]\tvalidation_0-logloss:0.01318\tvalidation_1-logloss:0.23267\n",
      "[140]\tvalidation_0-logloss:0.01315\tvalidation_1-logloss:0.23192\n",
      "[141]\tvalidation_0-logloss:0.01312\tvalidation_1-logloss:0.23222\n",
      "[142]\tvalidation_0-logloss:0.01309\tvalidation_1-logloss:0.23196\n",
      "[143]\tvalidation_0-logloss:0.01306\tvalidation_1-logloss:0.23125\n",
      "[144]\tvalidation_0-logloss:0.01303\tvalidation_1-logloss:0.23057\n",
      "[145]\tvalidation_0-logloss:0.01299\tvalidation_1-logloss:0.23210\n",
      "[146]\tvalidation_0-logloss:0.01296\tvalidation_1-logloss:0.23182\n",
      "[147]\tvalidation_0-logloss:0.01293\tvalidation_1-logloss:0.23268\n",
      "[148]\tvalidation_0-logloss:0.01290\tvalidation_1-logloss:0.23300\n",
      "[149]\tvalidation_0-logloss:0.01287\tvalidation_1-logloss:0.23273\n",
      "[150]\tvalidation_0-logloss:0.01285\tvalidation_1-logloss:0.23208\n",
      "[151]\tvalidation_0-logloss:0.01282\tvalidation_1-logloss:0.23237\n",
      "[152]\tvalidation_0-logloss:0.01279\tvalidation_1-logloss:0.23374\n",
      "[153]\tvalidation_0-logloss:0.01277\tvalidation_1-logloss:0.23310\n",
      "[154]\tvalidation_0-logloss:0.01274\tvalidation_1-logloss:0.23335\n",
      "[155]\tvalidation_0-logloss:0.01272\tvalidation_1-logloss:0.23276\n",
      "[156]\tvalidation_0-logloss:0.01270\tvalidation_1-logloss:0.23353\n",
      "[157]\tvalidation_0-logloss:0.01267\tvalidation_1-logloss:0.23324\n",
      "[158]\tvalidation_0-logloss:0.01265\tvalidation_1-logloss:0.23269\n",
      "[159]\tvalidation_0-logloss:0.01263\tvalidation_1-logloss:0.23296\n",
      "[160]\tvalidation_0-logloss:0.01261\tvalidation_1-logloss:0.23241\n",
      "[161]\tvalidation_0-logloss:0.01259\tvalidation_1-logloss:0.23268\n",
      "[162]\tvalidation_0-logloss:0.01257\tvalidation_1-logloss:0.23291\n",
      "[163]\tvalidation_0-logloss:0.01255\tvalidation_1-logloss:0.23238\n",
      "[164]\tvalidation_0-logloss:0.01253\tvalidation_1-logloss:0.23163\n",
      "[165]\tvalidation_0-logloss:0.01251\tvalidation_1-logloss:0.23135\n",
      "[166]\tvalidation_0-logloss:0.01249\tvalidation_1-logloss:0.23181\n",
      "[167]\tvalidation_0-logloss:0.01247\tvalidation_1-logloss:0.23128\n",
      "[168]\tvalidation_0-logloss:0.01245\tvalidation_1-logloss:0.23151\n",
      "[169]\tvalidation_0-logloss:0.01243\tvalidation_1-logloss:0.23220\n",
      "[170]\tvalidation_0-logloss:0.01242\tvalidation_1-logloss:0.23195\n",
      "[171]\tvalidation_0-logloss:0.01240\tvalidation_1-logloss:0.23216\n",
      "[172]\tvalidation_0-logloss:0.01239\tvalidation_1-logloss:0.23168\n",
      "[173]\tvalidation_0-logloss:0.01237\tvalidation_1-logloss:0.23232\n",
      "[174]\tvalidation_0-logloss:0.01235\tvalidation_1-logloss:0.23209\n",
      "[175]\tvalidation_0-logloss:0.01234\tvalidation_1-logloss:0.23161\n",
      "[176]\tvalidation_0-logloss:0.01233\tvalidation_1-logloss:0.23120\n",
      "[177]\tvalidation_0-logloss:0.01232\tvalidation_1-logloss:0.23084\n",
      "[178]\tvalidation_0-logloss:0.01230\tvalidation_1-logloss:0.23105\n",
      "[179]\tvalidation_0-logloss:0.01229\tvalidation_1-logloss:0.23124\n",
      "[180]\tvalidation_0-logloss:0.01228\tvalidation_1-logloss:0.23142\n",
      "[181]\tvalidation_0-logloss:0.01227\tvalidation_1-logloss:0.23056\n",
      "[182]\tvalidation_0-logloss:0.01226\tvalidation_1-logloss:0.23016\n",
      "[183]\tvalidation_0-logloss:0.01225\tvalidation_1-logloss:0.23048\n",
      "[184]\tvalidation_0-logloss:0.01224\tvalidation_1-logloss:0.23066\n",
      "[185]\tvalidation_0-logloss:0.01223\tvalidation_1-logloss:0.23027\n",
      "[186]\tvalidation_0-logloss:0.01222\tvalidation_1-logloss:0.22991\n",
      "[187]\tvalidation_0-logloss:0.01221\tvalidation_1-logloss:0.23006\n",
      "[188]\tvalidation_0-logloss:0.01220\tvalidation_1-logloss:0.22970\n",
      "[189]\tvalidation_0-logloss:0.01219\tvalidation_1-logloss:0.22989\n",
      "[190]\tvalidation_0-logloss:0.01218\tvalidation_1-logloss:0.22958\n",
      "[191]\tvalidation_0-logloss:0.01217\tvalidation_1-logloss:0.22975\n",
      "[192]\tvalidation_0-logloss:0.01216\tvalidation_1-logloss:0.22991\n",
      "[193]\tvalidation_0-logloss:0.01215\tvalidation_1-logloss:0.22939\n",
      "[194]\tvalidation_0-logloss:0.01214\tvalidation_1-logloss:0.22953\n",
      "[195]\tvalidation_0-logloss:0.01214\tvalidation_1-logloss:0.22921\n",
      "[196]\tvalidation_0-logloss:0.01213\tvalidation_1-logloss:0.22874\n",
      "[197]\tvalidation_0-logloss:0.01212\tvalidation_1-logloss:0.22838\n",
      "[198]\tvalidation_0-logloss:0.01211\tvalidation_1-logloss:0.22853\n",
      "[199]\tvalidation_0-logloss:0.01211\tvalidation_1-logloss:0.22846\n",
      "[200]\tvalidation_0-logloss:0.01210\tvalidation_1-logloss:0.22857\n",
      "[201]\tvalidation_0-logloss:0.01209\tvalidation_1-logloss:0.22828\n",
      "[202]\tvalidation_0-logloss:0.01208\tvalidation_1-logloss:0.22842\n",
      "[203]\tvalidation_0-logloss:0.01208\tvalidation_1-logloss:0.22800\n",
      "[204]\tvalidation_0-logloss:0.01207\tvalidation_1-logloss:0.22718\n",
      "[205]\tvalidation_0-logloss:0.01205\tvalidation_1-logloss:0.22644\n",
      "[206]\tvalidation_0-logloss:0.01204\tvalidation_1-logloss:0.22673\n",
      "[207]\tvalidation_0-logloss:0.01203\tvalidation_1-logloss:0.22639\n",
      "[208]\tvalidation_0-logloss:0.01202\tvalidation_1-logloss:0.22651\n",
      "[209]\tvalidation_0-logloss:0.01202\tvalidation_1-logloss:0.22666\n",
      "[210]\tvalidation_0-logloss:0.01202\tvalidation_1-logloss:0.22666\n",
      "[211]\tvalidation_0-logloss:0.01202\tvalidation_1-logloss:0.22665\n",
      "[212]\tvalidation_0-logloss:0.01202\tvalidation_1-logloss:0.22665\n",
      "[213]\tvalidation_0-logloss:0.01202\tvalidation_1-logloss:0.22665\n",
      "[214]\tvalidation_0-logloss:0.01202\tvalidation_1-logloss:0.22665\n",
      "[215]\tvalidation_0-logloss:0.01202\tvalidation_1-logloss:0.22665\n",
      "[216]\tvalidation_0-logloss:0.01202\tvalidation_1-logloss:0.22665\n",
      "[217]\tvalidation_0-logloss:0.01202\tvalidation_1-logloss:0.22665\n",
      "[218]\tvalidation_0-logloss:0.01202\tvalidation_1-logloss:0.22665\n",
      "[219]\tvalidation_0-logloss:0.01202\tvalidation_1-logloss:0.22665\n",
      "[220]\tvalidation_0-logloss:0.01202\tvalidation_1-logloss:0.22665\n",
      "[221]\tvalidation_0-logloss:0.01202\tvalidation_1-logloss:0.22665\n",
      "[222]\tvalidation_0-logloss:0.01202\tvalidation_1-logloss:0.22665\n",
      "[223]\tvalidation_0-logloss:0.01202\tvalidation_1-logloss:0.22665\n",
      "[224]\tvalidation_0-logloss:0.01202\tvalidation_1-logloss:0.22665\n",
      "[225]\tvalidation_0-logloss:0.01202\tvalidation_1-logloss:0.22665\n",
      "[226]\tvalidation_0-logloss:0.01202\tvalidation_1-logloss:0.22665\n",
      "[227]\tvalidation_0-logloss:0.01202\tvalidation_1-logloss:0.22665\n",
      "[228]\tvalidation_0-logloss:0.01202\tvalidation_1-logloss:0.22665\n",
      "[229]\tvalidation_0-logloss:0.01202\tvalidation_1-logloss:0.22665\n",
      "[230]\tvalidation_0-logloss:0.01202\tvalidation_1-logloss:0.22665\n",
      "[231]\tvalidation_0-logloss:0.01202\tvalidation_1-logloss:0.22665\n",
      "[232]\tvalidation_0-logloss:0.01202\tvalidation_1-logloss:0.22665\n",
      "[233]\tvalidation_0-logloss:0.01202\tvalidation_1-logloss:0.22665\n",
      "[234]\tvalidation_0-logloss:0.01202\tvalidation_1-logloss:0.22665\n",
      "[235]\tvalidation_0-logloss:0.01202\tvalidation_1-logloss:0.22665\n",
      "[236]\tvalidation_0-logloss:0.01202\tvalidation_1-logloss:0.22665\n",
      "[237]\tvalidation_0-logloss:0.01202\tvalidation_1-logloss:0.22665\n",
      "[238]\tvalidation_0-logloss:0.01202\tvalidation_1-logloss:0.22665\n",
      "[239]\tvalidation_0-logloss:0.01202\tvalidation_1-logloss:0.22665\n",
      "[240]\tvalidation_0-logloss:0.01202\tvalidation_1-logloss:0.22665\n",
      "[241]\tvalidation_0-logloss:0.01202\tvalidation_1-logloss:0.22665\n",
      "[242]\tvalidation_0-logloss:0.01202\tvalidation_1-logloss:0.22665\n",
      "[243]\tvalidation_0-logloss:0.01202\tvalidation_1-logloss:0.22665\n",
      "[244]\tvalidation_0-logloss:0.01202\tvalidation_1-logloss:0.22665\n",
      "[245]\tvalidation_0-logloss:0.01202\tvalidation_1-logloss:0.22665\n",
      "[246]\tvalidation_0-logloss:0.01202\tvalidation_1-logloss:0.22665\n",
      "[247]\tvalidation_0-logloss:0.01202\tvalidation_1-logloss:0.22665\n",
      "[248]\tvalidation_0-logloss:0.01202\tvalidation_1-logloss:0.22665\n",
      "[249]\tvalidation_0-logloss:0.01202\tvalidation_1-logloss:0.22665\n",
      "[250]\tvalidation_0-logloss:0.01202\tvalidation_1-logloss:0.22665\n",
      "[251]\tvalidation_0-logloss:0.01202\tvalidation_1-logloss:0.22665\n",
      "[252]\tvalidation_0-logloss:0.01202\tvalidation_1-logloss:0.22665\n",
      "[253]\tvalidation_0-logloss:0.01202\tvalidation_1-logloss:0.22665\n",
      "[254]\tvalidation_0-logloss:0.01202\tvalidation_1-logloss:0.22665\n",
      "[255]\tvalidation_0-logloss:0.01202\tvalidation_1-logloss:0.22665\n",
      "[256]\tvalidation_0-logloss:0.01202\tvalidation_1-logloss:0.22665\n",
      "[257]\tvalidation_0-logloss:0.01202\tvalidation_1-logloss:0.22665\n",
      "오차 행렬\n",
      "[[33  4]\n",
      " [ 2 75]]\n",
      "정확도: 0.9474, 정밀도: 0.9494, 재현율: 0.9740,    F1: 0.9615, AUC:0.9909\n"
     ]
    }
   ],
   "source": [
    "xgb_wrapper = XGBClassifier(n_estimators=400,\n",
    "                            learning_rate=round(best['learning_rate'], 5),\n",
    "                            max_depth=int(best['max_depth']),\n",
    "                            min_child_weight=int(best['min_child_weight']),\n",
    "                            colsample_bytree=round(best['colsample_bytree'], 5)\n",
    "                           )\n",
    "\n",
    "evals = [(X_tr, y_tr), (X_val, y_val)]\n",
    "xgb_wrapper.fit(X_tr, y_tr, early_stopping_rounds=50, eval_metric='logloss',\n",
    "                eval_set=evals, verbose=True)\n",
    "\n",
    "preds = xgb_wrapper.predict(X_test)\n",
    "pred_proba = xgb_wrapper.predict_proba(X_test)[:, 1]\n",
    "\n",
    "get_clf_eval(y_test, preds, pred_proba)"
   ]
  },
  {
   "cell_type": "code",
   "execution_count": null,
   "id": "4c1bc249",
   "metadata": {},
   "outputs": [],
   "source": []
  }
 ],
 "metadata": {
  "kernelspec": {
   "display_name": "Python 3",
   "language": "python",
   "name": "python3"
  },
  "language_info": {
   "codemirror_mode": {
    "name": "ipython",
    "version": 3
   },
   "file_extension": ".py",
   "mimetype": "text/x-python",
   "name": "python",
   "nbconvert_exporter": "python",
   "pygments_lexer": "ipython3",
   "version": "3.8.8"
  }
 },
 "nbformat": 4,
 "nbformat_minor": 5
}
