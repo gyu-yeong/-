{
 "cells": [
  {
   "cell_type": "markdown",
   "id": "6d206dfb",
   "metadata": {},
   "source": [
    "## 키워드 분석\n",
    "* 핵심어(keyword)란 텍스트 자료의 중요한 내용을 압축적으로 제시하는 단어 또는 문구\n",
    "* 핵심어 분석이란 불용어 제거와 어간추출 및 형태소 분석 등의 자연어 처리를 시행한 후 텍스트에서 많이 등장하는 형태소의 등장 빈도를 분석함으로써 핵심어를 추출   \n",
    "* 특정 텍스트 자료에 많이 나타나는 형태소가 그 텍스트 주제를 표출할 가능성이 높다는 가정에 기초  \n",
    "* 물론 빈도 분석에서 영어의 전치사나 한국어의 조사와 같이 의미를 별로 담고 있지 않은 불용어는 제외하는 것이 좋음\n",
    "* 키워드 분석은 텍스트의 주제 추정, 텍스트 유사도, 검색 엔진의 검색 결과 우선 순위 측정 등 다양하게 사용될 수 있음"
   ]
  },
  {
   "cell_type": "code",
   "execution_count": 3,
   "id": "886c1c39",
   "metadata": {},
   "outputs": [],
   "source": [
    "import matplotlib as mpl\n",
    "import matplotlib.pyplot as plt\n",
    "\n",
    "from matplotlib import rc, style, font_manager\n",
    "font_name = font_manager.FontProperties(fname=\"C:/windows/Fonts/malgun.ttf\").get_name()\n",
    "rc('font', family=font_name)\n",
    "style.use('ggplot')"
   ]
  },
  {
   "cell_type": "code",
   "execution_count": 12,
   "id": "055c0158",
   "metadata": {},
   "outputs": [],
   "source": [
    "import urllib.request #파이썬으로 웹 리소스를 가져오는 방법\n",
    "\n",
    "raw = urllib.request.urlopen('https://raw.githubusercontent.com/e9t/nsmc/master/ratings.txt').readlines()"
   ]
  },
  {
   "cell_type": "code",
   "execution_count": 9,
   "id": "c9eedbdc",
   "metadata": {},
   "outputs": [
    {
     "name": "stdout",
     "output_type": "stream",
     "text": [
      "['어릴때보고 지금다시봐도 재밌어요ㅋㅋ', '디자인을 배우는 학생으로, 외국디자이너와 그들이 일군 전통을 통해 발전해가는 문화산업이 부러웠는데. 사실 우리나라에서도 그 어려운시절에 끝까지 열정을 지킨 노라노 같은 전통이있어 저와 같은 사람들이 꿈을 꾸고 이뤄나갈 수 있다는 것에 감사합니다.', '폴리스스토리 시리즈는 1부터 뉴까지 버릴께 하나도 없음.. 최고.', '와.. 연기가 진짜 개쩔구나.. 지루할거라고 생각했는데 몰입해서 봤다.. 그래 이런게 진짜 영화지', '안개 자욱한 밤하늘에 떠 있는 초승달 같은 영화.']\n"
     ]
    }
   ],
   "source": [
    "raw =[x.decode() for x in raw[1:]] #decode를 통해 한글화\n",
    "\n",
    "reviews = []\n",
    "for i in raw:\n",
    "    reviews.append(i.split('\\t')[1]) #tab 기준으로 split\n",
    "\n",
    "print(reviews[:5])"
   ]
  },
  {
   "cell_type": "markdown",
   "id": "e616b076",
   "metadata": {},
   "source": [
    "### 형태소 분석을 이용한 명사 추출"
   ]
  },
  {
   "cell_type": "code",
   "execution_count": 18,
   "id": "17d91a7f",
   "metadata": {},
   "outputs": [
    {
     "ename": "SyntaxError",
     "evalue": "invalid syntax (<ipython-input-18-c6343b7f9328>, line 1)",
     "output_type": "error",
     "traceback": [
      "\u001b[1;36m  File \u001b[1;32m\"<ipython-input-18-c6343b7f9328>\"\u001b[1;36m, line \u001b[1;32m1\u001b[0m\n\u001b[1;33m    && pip install konlpy \\\u001b[0m\n\u001b[1;37m    ^\u001b[0m\n\u001b[1;31mSyntaxError\u001b[0m\u001b[1;31m:\u001b[0m invalid syntax\n"
     ]
    }
   ],
   "source": [
    "&& pip install konlpy \\\n",
    "&&  curl -s https://raw.githubusercontent.com/konlpy/konlpy/master/scripts/mecab.sh | bash -x"
   ]
  },
  {
   "cell_type": "code",
   "execution_count": null,
   "id": "d21c5aa1",
   "metadata": {},
   "outputs": [],
   "source": []
  }
 ],
 "metadata": {
  "kernelspec": {
   "display_name": "Python 3",
   "language": "python",
   "name": "python3"
  },
  "language_info": {
   "codemirror_mode": {
    "name": "ipython",
    "version": 3
   },
   "file_extension": ".py",
   "mimetype": "text/x-python",
   "name": "python",
   "nbconvert_exporter": "python",
   "pygments_lexer": "ipython3",
   "version": "3.8.8"
  }
 },
 "nbformat": 4,
 "nbformat_minor": 5
}
