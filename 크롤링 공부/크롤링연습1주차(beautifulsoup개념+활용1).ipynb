{
 "cells": [
  {
   "cell_type": "markdown",
   "id": "5f211ec0",
   "metadata": {},
   "source": [
    "### 웹스크래핑 이해\n",
    "#### HTML: 뼈대 / CSS: 인테리어 / JS: 살아있게하는 것"
   ]
  },
  {
   "cell_type": "markdown",
   "id": "96c7420c",
   "metadata": {},
   "source": [
    "#### xpath가 검사 시 우리가 궁금한 부분에 대한 경로"
   ]
  },
  {
   "cell_type": "code",
   "execution_count": 1,
   "id": "d4d3a458",
   "metadata": {},
   "outputs": [
    {
     "name": "stdout",
     "output_type": "stream",
     "text": [
      "응답코드: 200\n"
     ]
    }
   ],
   "source": [
    "import requests\n",
    "res = requests.get('http://google.com')\n",
    "print(\"응답코드:\", res.status_code)\n",
    "res.raise_for_status()"
   ]
  },
  {
   "cell_type": "code",
   "execution_count": 2,
   "id": "636c5c81",
   "metadata": {},
   "outputs": [
    {
     "name": "stdout",
     "output_type": "stream",
     "text": [
      "정상\n"
     ]
    }
   ],
   "source": [
    "if res.status_code == requests.codes.ok:\n",
    "    print('정상')\n",
    "else:\n",
    "    print('비정상.[에러코드',res.status_code,']')"
   ]
  },
  {
   "cell_type": "code",
   "execution_count": null,
   "id": "dfb33d74",
   "metadata": {},
   "outputs": [],
   "source": [
    "res.raise_for_status()\n",
    "print(\"웹스크래핑을 진행합니다.)"
   ]
  },
  {
   "cell_type": "code",
   "execution_count": 8,
   "id": "3de6eb20",
   "metadata": {},
   "outputs": [
    {
     "name": "stdout",
     "output_type": "stream",
     "text": [
      "15205\n"
     ]
    }
   ],
   "source": [
    "print(len(res.text))"
   ]
  },
  {
   "cell_type": "code",
   "execution_count": 10,
   "id": "460b9f3e",
   "metadata": {},
   "outputs": [],
   "source": [
    "with open('mygoogle.html','w',encoding='utf8') as f:\n",
    "    f.write(res.text)"
   ]
  },
  {
   "cell_type": "markdown",
   "id": "849e32c1",
   "metadata": {},
   "source": [
    "### 정규식 기본"
   ]
  },
  {
   "cell_type": "markdown",
   "id": "30364a5d",
   "metadata": {},
   "source": [
    "#### caae, cabe, cace, cade 를  출력하는 방법 \n",
    "\n",
    "#### 점(,)은 하나의 문자 의미 -> care, caae, cade 등\n",
    "#### ^(^de): 문자열의 시작 -> desk, destion 등 | fade(x)\n",
    "#### 달러표시(se(달러)): 문자열의 끝 -> acse, ddse 등"
   ]
  },
  {
   "cell_type": "code",
   "execution_count": 3,
   "id": "0bebff58",
   "metadata": {},
   "outputs": [],
   "source": [
    "import re\n",
    "p = re.compile('ca.e')"
   ]
  },
  {
   "cell_type": "code",
   "execution_count": null,
   "id": "a76f7130",
   "metadata": {},
   "outputs": [],
   "source": [
    "#se$ -> "
   ]
  },
  {
   "cell_type": "code",
   "execution_count": 19,
   "id": "07b1729b",
   "metadata": {},
   "outputs": [
    {
     "name": "stdout",
     "output_type": "stream",
     "text": [
      "m.group(): case\n",
      "m.string: case\n",
      "m.start(): 0\n",
      "m.end(): 4\n",
      "m.span(): (0, 4)\n"
     ]
    }
   ],
   "source": [
    "def print_match(m):\n",
    "    if m:\n",
    "        print('m.group():', m.group()) #일치하는 문자열 반환\n",
    "        print('m.string:', m.string) #입력받은 문자열\n",
    "        print('m.start():', m.start()) #일치하는 문자열의 시작 index\n",
    "        print('m.end():', m.end()) #일치하는 문자열의 끝 index\n",
    "        print('m.span():', m.span()) #일치하는 문자열의 시작과 끝 index\n",
    "    else:\n",
    "        print('매칭x')\n",
    "\n",
    "m = p.match('case')\n",
    "print_match(m)"
   ]
  },
  {
   "cell_type": "code",
   "execution_count": 20,
   "id": "aaddfb0d",
   "metadata": {},
   "outputs": [
    {
     "name": "stdout",
     "output_type": "stream",
     "text": [
      "매칭x\n"
     ]
    }
   ],
   "source": [
    "m = p.match('less') # match: 주어진 문자열이 처음부터 일치하는지 확인\n",
    "print_match(m)"
   ]
  },
  {
   "cell_type": "code",
   "execution_count": 21,
   "id": "eb5a45d2",
   "metadata": {},
   "outputs": [
    {
     "name": "stdout",
     "output_type": "stream",
     "text": [
      "m.group(): care\n",
      "m.string: good_careless\n",
      "m.start(): 5\n",
      "m.end(): 9\n",
      "m.span(): (5, 9)\n"
     ]
    }
   ],
   "source": [
    "m = p.search('good_careless') #seach: 주어진 문자열 중에 일치하는게 있는지 확인 \n",
    "print_match(m)"
   ]
  },
  {
   "cell_type": "code",
   "execution_count": 24,
   "id": "142ea0ce",
   "metadata": {},
   "outputs": [
    {
     "name": "stdout",
     "output_type": "stream",
     "text": [
      "['care', 'cade']\n"
     ]
    }
   ],
   "source": [
    "lst = p.findall('careless cade') #findall: 일치하는 모든 것을 리스트 형태로 반환\n",
    "print(lst)"
   ]
  },
  {
   "cell_type": "markdown",
   "id": "3986f6cf",
   "metadata": {},
   "source": [
    "### 요약\n",
    "#### 1. re.complie(\"원하는형태\")\n",
    "#### 2. m = p.match(\"비교할 문자열\") : 주어진 문자열이 처음부터  일치하는지확인\n",
    "#### 3. m = p.search(\"비교할 문자열\"): 주어진 문자열 중에 일치하는게 있는지 확인 \n",
    "#### 4. m = p.findall(\"비교할 문자열\"): 일치하는 모든 것을 리스트 형태로 반환"
   ]
  },
  {
   "cell_type": "markdown",
   "id": "57388009",
   "metadata": {},
   "source": [
    "### useragent"
   ]
  },
  {
   "cell_type": "code",
   "execution_count": 4,
   "id": "e952d0e7",
   "metadata": {},
   "outputs": [
    {
     "name": "stdout",
     "output_type": "stream",
     "text": [
      "응답코드: 200\n"
     ]
    }
   ],
   "source": [
    "import requests\n",
    "headers = {'User-Agent' : \"Mozilla/5.0 (Windows NT 10.0; Win64; x64) AppleWebKit/537.36 (KHTML, like Gecko) Chrome/104.0.0.0 Safari/537.36\"}\n",
    "res = requests.get('http://nadocoding.tistory.com')\n",
    "print(\"응답코드:\", res.status_code)\n",
    "res.raise_for_status()\n",
    "\n",
    "with open('nadocoding.html','w',encoding='utf8') as f:\n",
    "    f.write(res.text) #이러면 주피터안에 html 파일 생김 "
   ]
  },
  {
   "cell_type": "markdown",
   "id": "20f6c11c",
   "metadata": {},
   "source": [
    "## BeautifulSoup4 기본1"
   ]
  },
  {
   "cell_type": "code",
   "execution_count": 5,
   "id": "efd120cd",
   "metadata": {},
   "outputs": [
    {
     "name": "stdout",
     "output_type": "stream",
     "text": [
      "네이버 웹툰 > 요일별  웹툰 > 전체웹툰\n"
     ]
    }
   ],
   "source": [
    "import requests\n",
    "from bs4 import BeautifulSoup\n",
    "\n",
    "url = 'https://comic.naver.com/webtoon/weekday'\n",
    "res = requests.get(url)\n",
    "res.raise_for_status() #문제있으면 종료\n",
    "\n",
    "soup = BeautifulSoup(res.text,'lxml') #lxml parser\n",
    "print(soup.title.get_text()) #텍스트만 가져옴 "
   ]
  },
  {
   "cell_type": "code",
   "execution_count": 6,
   "id": "7b0c1cc1",
   "metadata": {},
   "outputs": [
    {
     "name": "stdout",
     "output_type": "stream",
     "text": [
      "<a href=\"#menu\" onclick=\"document.getElementById('menu').tabIndex=-1;document.getElementById('menu').focus();return false;\"><span>메인 메뉴로 바로가기</span></a>\n"
     ]
    }
   ],
   "source": [
    "print(soup.a) #soup안의 처음발견되는 a의 element 대한 정보를 뿌려줘"
   ]
  },
  {
   "cell_type": "code",
   "execution_count": 7,
   "id": "8b6c2933",
   "metadata": {},
   "outputs": [
    {
     "name": "stdout",
     "output_type": "stream",
     "text": [
      "{'href': '#menu', 'onclick': \"document.getElementById('menu').tabIndex=-1;document.getElementById('menu').focus();return false;\"}\n"
     ]
    }
   ],
   "source": [
    "print(soup.a.attrs) #a의 element 속성 확인 "
   ]
  },
  {
   "cell_type": "code",
   "execution_count": 8,
   "id": "f0056bf4",
   "metadata": {},
   "outputs": [
    {
     "name": "stdout",
     "output_type": "stream",
     "text": [
      "#menu\n"
     ]
    }
   ],
   "source": [
    "print(soup.a['href']) #a element의 ''속성값 확인 "
   ]
  },
  {
   "cell_type": "code",
   "execution_count": 9,
   "id": "a04d89d2",
   "metadata": {},
   "outputs": [
    {
     "data": {
      "text/plain": [
       "<a class=\"Nbtn_upload\" href=\"/mypage/myActivity\" onclick=\"nclk_v2(event,'olk.upload');\">웹툰 올리기</a>"
      ]
     },
     "execution_count": 9,
     "metadata": {},
     "output_type": "execute_result"
    }
   ],
   "source": [
    "soup.find('a',attrs={\"class\":\"Nbtn_upload\"}) # 첫번째 a안에서 속성이 클래스가 Nbtn~인애를 출력해줘"
   ]
  },
  {
   "cell_type": "code",
   "execution_count": 10,
   "id": "e8dab858",
   "metadata": {},
   "outputs": [
    {
     "data": {
      "text/plain": [
       "<a class=\"Nbtn_upload\" href=\"/mypage/myActivity\" onclick=\"nclk_v2(event,'olk.upload');\">웹툰 올리기</a>"
      ]
     },
     "execution_count": 10,
     "metadata": {},
     "output_type": "execute_result"
    }
   ],
   "source": [
    "soup.find(attrs={\"class\":\"Nbtn_upload\"}) #속성이 클래스가 Nbtn~인애를 출력해줘"
   ]
  },
  {
   "cell_type": "code",
   "execution_count": 29,
   "id": "967943f9",
   "metadata": {},
   "outputs": [
    {
     "name": "stdout",
     "output_type": "stream",
     "text": [
      "<a href=\"/webtoon/detail?titleId=736277&amp;no=157\" onclick=\"nclk_v2(event,'rnk*p.cont','736277','1')\" title=\"싸움독학-153화 : 잡았다 이새끼들\">싸움독학-153화 : 잡았다 이새끼들</a>\n"
     ]
    }
   ],
   "source": [
    "rank1 = soup.find('li',attrs={'class':'rank01'})\n",
    "print(rank1.a)"
   ]
  },
  {
   "cell_type": "code",
   "execution_count": 30,
   "id": "ff21b672",
   "metadata": {},
   "outputs": [
    {
     "name": "stdout",
     "output_type": "stream",
     "text": [
      "싸움독학-153화 : 잡았다 이새끼들\n"
     ]
    }
   ],
   "source": [
    "print(rank1.a.get_text())"
   ]
  },
  {
   "cell_type": "markdown",
   "id": "36e7af79",
   "metadata": {},
   "source": [
    "#### next_sibling은 밑으로 내려감\n",
    "#### previous_sibling은 위로 올라감\n",
    "#### find_next_sibling(\"li\"): li에 해당하는 애들만 가져옴 (얘를 젤 많이씀)"
   ]
  },
  {
   "cell_type": "code",
   "execution_count": 31,
   "id": "7eeefa3a",
   "metadata": {},
   "outputs": [
    {
     "name": "stdout",
     "output_type": "stream",
     "text": [
      "입학용병-105화 사형소년-25화_미친개들\n"
     ]
    }
   ],
   "source": [
    "rank2 = rank1.next_sibling.next_sibling\n",
    "rank3 = rank2.next_sibling.next_sibling\n",
    "print(rank2.a.get_text(), rank3.a.get_text())"
   ]
  },
  {
   "cell_type": "code",
   "execution_count": 34,
   "id": "b57d7783",
   "metadata": {},
   "outputs": [
    {
     "name": "stdout",
     "output_type": "stream",
     "text": [
      "사형소년-25화_미친개들\n"
     ]
    }
   ],
   "source": [
    "rank4 = rank3.next_sibling.previous_sibling\n",
    "print(rank4.a.get_text())"
   ]
  },
  {
   "cell_type": "code",
   "execution_count": 36,
   "id": "c7c8435a",
   "metadata": {},
   "outputs": [
    {
     "data": {
      "text/plain": [
       "'입학용병-105화'"
      ]
     },
     "execution_count": 36,
     "metadata": {},
     "output_type": "execute_result"
    }
   ],
   "source": [
    "rank2 = rank1.find_next_sibling(\"li\")\n",
    "rank2.a.get_text()"
   ]
  },
  {
   "cell_type": "code",
   "execution_count": 37,
   "id": "24e07d05",
   "metadata": {},
   "outputs": [
    {
     "data": {
      "text/plain": [
       "'사형소년-25화_미친개들'"
      ]
     },
     "execution_count": 37,
     "metadata": {},
     "output_type": "execute_result"
    }
   ],
   "source": [
    "rank3 = rank2.find_next_sibling(\"li\")\n",
    "rank3.a.get_text()"
   ]
  },
  {
   "cell_type": "code",
   "execution_count": 41,
   "id": "3f72fbd0",
   "metadata": {
    "scrolled": true
   },
   "outputs": [
    {
     "data": {
      "text/plain": [
       "[<li class=\"rank02\">\n",
       " <a href=\"/webtoon/detail?titleId=758150&amp;no=106\" onclick=\"nclk_v2(event,'rnk*p.cont','758150','2')\" title=\"입학용병-105화\">입학용병-105화</a>\n",
       " <span class=\"rankBox\">\n",
       " <img alt=\"변동없음\" height=\"10\" src=\"https://ssl.pstatic.net/static/comic/images/migration/common/arrow_no.gif\" title=\"변동없음\" width=\"7\"/> 0\n",
       " \t\t\t\t\t\t\n",
       " \t\t\t\t\t\n",
       " \t\t\t\t</span>\n",
       " </li>,\n",
       " <li class=\"rank03\">\n",
       " <a href=\"/webtoon/detail?titleId=795262&amp;no=25\" onclick=\"nclk_v2(event,'rnk*p.cont','795262','3')\" title=\"사형소년-25화_미친개들\">사형소년-25화_미친개들</a>\n",
       " <span class=\"rankBox\">\n",
       " <img alt=\"변동없음\" height=\"10\" src=\"https://ssl.pstatic.net/static/comic/images/migration/common/arrow_no.gif\" title=\"변동없음\" width=\"7\"/> 0\n",
       " \t\t\t\t\t\t\n",
       " \t\t\t\t\t\n",
       " \t\t\t\t</span>\n",
       " </li>,\n",
       " <li class=\"rank04\">\n",
       " <a href=\"/webtoon/detail?titleId=785251&amp;no=51\" onclick=\"nclk_v2(event,'rnk*p.cont','785251','4')\" title=\"시월드가 내게 집착한다-50화\">시월드가 내게 집착한다-50화</a>\n",
       " <span class=\"rankBox\">\n",
       " <img alt=\"변동없음\" height=\"10\" src=\"https://ssl.pstatic.net/static/comic/images/migration/common/arrow_no.gif\" title=\"변동없음\" width=\"7\"/> 0\n",
       " \t\t\t\t\t\t\n",
       " \t\t\t\t\t\n",
       " \t\t\t\t</span>\n",
       " </li>,\n",
       " <li class=\"rank05\">\n",
       " <a href=\"/webtoon/detail?titleId=710751&amp;no=217\" onclick=\"nclk_v2(event,'rnk*p.cont','710751','5')\" title=\"약한영웅-216화\">약한영웅-216화</a>\n",
       " <span class=\"rankBox\">\n",
       " <img alt=\"변동없음\" height=\"10\" src=\"https://ssl.pstatic.net/static/comic/images/migration/common/arrow_no.gif\" title=\"변동없음\" width=\"7\"/> 0\n",
       " \t\t\t\t\t\t\n",
       " \t\t\t\t\t\n",
       " \t\t\t\t</span>\n",
       " </li>,\n",
       " <li class=\"rank06\">\n",
       " <a href=\"/webtoon/detail?titleId=798664&amp;no=12\" onclick=\"nclk_v2(event,'rnk*p.cont','798664','6')\" title=\"자매전쟁-12 진짜는 누구 (4)\">자매전쟁-12 진짜는 누구 (4)</a>\n",
       " <span class=\"rankBox\">\n",
       " <img alt=\"변동없음\" height=\"10\" src=\"https://ssl.pstatic.net/static/comic/images/migration/common/arrow_no.gif\" title=\"변동없음\" width=\"7\"/> 0\n",
       " \t\t\t\t\t\t\n",
       " \t\t\t\t\t\n",
       " \t\t\t\t</span>\n",
       " </li>,\n",
       " <li class=\"rank07\">\n",
       " <a href=\"/webtoon/detail?titleId=761104&amp;no=104\" onclick=\"nclk_v2(event,'rnk*p.cont','761104','7')\" title=\"곱게 키웠더니, 짐승-외전 11화\">곱게 키웠더니, 짐승-외전 11화</a>\n",
       " <span class=\"rankBox\">\n",
       " <img alt=\"변동없음\" height=\"10\" src=\"https://ssl.pstatic.net/static/comic/images/migration/common/arrow_no.gif\" title=\"변동없음\" width=\"7\"/> 0\n",
       " \t\t\t\t\t\t\n",
       " \t\t\t\t\t\n",
       " \t\t\t\t</span>\n",
       " </li>,\n",
       " <li class=\"rank08\">\n",
       " <a href=\"/webtoon/detail?titleId=795529&amp;no=26\" onclick=\"nclk_v2(event,'rnk*p.cont','795529','8')\" title=\"아카데미에 위장취업당했다-26화 반마법\">아카데미에 위장취업당했다-26화 반마법</a>\n",
       " <span class=\"rankBox\">\n",
       " <img alt=\"변동없음\" height=\"10\" src=\"https://ssl.pstatic.net/static/comic/images/migration/common/arrow_no.gif\" title=\"변동없음\" width=\"7\"/> 0\n",
       " \t\t\t\t\t\t\n",
       " \t\t\t\t\t\n",
       " \t\t\t\t</span>\n",
       " </li>,\n",
       " <li class=\"rank09\">\n",
       " <a href=\"/webtoon/detail?titleId=774831&amp;no=72\" onclick=\"nclk_v2(event,'rnk*p.cont','774831','9')\" title=\"수희0(tngmlek0)-72화\">수희0(tngmlek0)-72화</a>\n",
       " <span class=\"rankBox\">\n",
       " <img alt=\"순위상승\" height=\"10\" src=\"https://ssl.pstatic.net/static/comic/images/migration/common/arrow_up.gif\" title=\"순위상승\" width=\"7\"/>1\n",
       " \t\t\t\t\t\t\n",
       " \t\t\t\t\t\t\n",
       " \t\t\t\t\t\n",
       " \t\t\t\t</span>\n",
       " </li>,\n",
       " <li class=\"rank10\">\n",
       " <a href=\"/webtoon/detail?titleId=783524&amp;no=38\" onclick=\"nclk_v2(event,'rnk*p.cont','783524','10')\" title=\"고백 취소도 되나?-37화\">고백 취소도 되나?-37화</a>\n",
       " <span class=\"rankBox\">\n",
       " <img alt=\"순위하락\" height=\"10\" src=\"https://ssl.pstatic.net/static/comic/images/migration/common/arrow_down.gif\" title=\"순위하락\" width=\"7\"/>1\n",
       " \t\t\t\t\t\t\n",
       " \t\t\t\t\t\t\n",
       " \t\t\t\t\t\t\n",
       " \t\t\t\t\t\n",
       " \t\t\t\t</span>\n",
       " </li>]"
      ]
     },
     "execution_count": 41,
     "metadata": {},
     "output_type": "execute_result"
    }
   ],
   "source": [
    "rank_all = rank1.find_next_siblings('li') #slbling가 아니라 siblings는 li에 포함된 형제 모두 가져옴\n",
    "rank_all"
   ]
  },
  {
   "cell_type": "markdown",
   "id": "5344041f",
   "metadata": {},
   "source": [
    "### <a\n",
    "### onclick=\"nclk_v2(event,'rnk*p.cont','736277','1')\" \n",
    "### href=\"/webtoon/detail?titleId=736277&amp;no=157\" \n",
    "### title=\"싸움독학-153화 : 잡았다 이새끼들\">싸움독학-153화 : 잡았다 이새끼들</a>  -> 닫는 테그 "
   ]
  },
  {
   "cell_type": "code",
   "execution_count": 42,
   "id": "799cae60",
   "metadata": {},
   "outputs": [
    {
     "name": "stdout",
     "output_type": "stream",
     "text": [
      "<a href=\"/webtoon/detail?titleId=736277&amp;no=157\" onclick=\"nclk_v2(event,'rnk*p.cont','736277','1')\" title=\"싸움독학-153화 : 잡았다 이새끼들\">싸움독학-153화 : 잡았다 이새끼들</a>\n"
     ]
    }
   ],
   "source": [
    "webtoon = soup.find(\"a\", text='싸움독학-153화 : 잡았다 이새끼들')\n",
    "print(webtoon)"
   ]
  },
  {
   "cell_type": "markdown",
   "id": "26402e31",
   "metadata": {},
   "source": [
    "## BeautifulSoup 활용1"
   ]
  },
  {
   "cell_type": "markdown",
   "id": "32909d88",
   "metadata": {},
   "source": [
    "### (1) 태그명이 'a'이고 class가 'title'인 애들을 가져오겠다"
   ]
  },
  {
   "cell_type": "code",
   "execution_count": 43,
   "id": "425ccf90",
   "metadata": {},
   "outputs": [
    {
     "name": "stdout",
     "output_type": "stream",
     "text": [
      "참교육\n",
      "뷰티풀 군바리\n",
      "퀘스트지상주의\n",
      "퍼니게임\n",
      "장씨세가 호위무사\n",
      "윈드브레이커\n",
      "팔이피플\n",
      "신화급 귀속 아이템을 손에 넣었다\n",
      "버림받은 왕녀의 은밀한 침실\n",
      "앵무살수\n",
      "호랑신랑뎐\n",
      "잔불의 기사\n",
      "소녀의 세계\n",
      "똑 닮은 딸\n",
      "절대검감\n",
      "인섹터\n",
      "사이다걸\n",
      "백수세끼\n",
      "히어로메이커\n",
      "리턴 투 플레이어\n",
      "물어보는 사이\n",
      "루루라라 우리네 인생\n",
      "랭커\n",
      "꼬리잡기\n",
      "북부 공작님을 유혹하겠습니다\n",
      "이별 후 사내 결혼\n",
      "순정말고 순종\n",
      "결혼생활 그림일기\n",
      "또다시, 계약 부부\n",
      "더블클릭\n",
      "아, 쫌 참으세요 영주님!\n",
      "헬크래프트\n",
      "황제와의 하룻밤\n",
      "수영만화일기\n",
      "오빠집이 비어서\n",
      "제왕: 빛과 그림자\n",
      "퇴근 후에 만나요\n",
      "꿈의 기업\n",
      "도깨비 부른다\n",
      "불청객\n",
      "다시쓰는 연애사\n",
      "파운더\n",
      "미니어처 생활백서\n",
      "이제야 연애\n",
      "집사, 주세요!\n",
      "우산 없는 애\n",
      "하루의 하루\n",
      "아슈타르테\n",
      "원작은 완결난 지 한참 됐습니다만\n",
      "최후의 금빛아이\n",
      "오늘의 비너스\n",
      "굿바이 유교보이\n",
      "그림자 신부\n",
      "입술이 예쁜 남자\n",
      "메리의 불타는 행복회로\n",
      "신군\n",
      "레지나레나 - 용서받지 못한 그대에게\n",
      "버그이터\n",
      "백호랑\n",
      "파견체\n",
      "모스크바의 여명\n",
      "경비실에서 안내방송 드립니다\n",
      "루크 비셸 따라잡기\n",
      "아마도\n",
      "나만의 고막남친\n",
      "악녀 18세 공략기\n",
      "매지컬 급식:암살법사\n",
      "지옥연애환담\n",
      "세번째 로망스\n",
      "행운을 부탁해!\n",
      "모노마니아\n",
      "역주행!\n",
      "슈퍼스타 천대리\n",
      "사막에 핀 달\n",
      "흔들리는 세계로부터\n",
      "결혼공략\n",
      "달로 만든 아이\n",
      "디나운스\n",
      "별을 쫓는 소년들\n",
      "오로지 오로라\n",
      "김부장\n",
      "대학원 탈출일지\n",
      "내가 키운 S급들\n",
      "여신강림\n",
      "마루는 강쥐\n",
      "1을 줄게\n",
      "멸망 이후의 세계\n",
      "하루만 네가 되고 싶어\n",
      "놓지마 정신줄 시즌3\n",
      "중증외상센터 : 골든 아워\n",
      "용사가 돌아왔다\n",
      "삼국지톡\n",
      "헬58\n",
      "악몽의 형상\n",
      "천마는 평범하게 살 수 없다\n",
      "집이 없어\n",
      "하북팽가 막내아들\n",
      "랜덤채팅의 그녀!\n",
      "호랑이 들어와요\n",
      "시체기사 군터\n",
      "올가미\n",
      "초인의 게임\n",
      "햄버거가 제일 좋아\n",
      "원주민 공포만화\n",
      "시한부인 줄 알았어요!\n",
      "윌유메리미\n",
      "나타나주세요!\n",
      "웅크\n",
      "덴큐\n",
      "애옹식당\n",
      "사표내고 이계에서 힐링합니다\n",
      "위아더좀비\n",
      "늑대처럼 홀로\n",
      "용왕님의 셰프가 되었습니다\n",
      "택배 왔습니다\n",
      "왕게임\n",
      "견우와 선녀\n",
      "헥토파스칼\n",
      "로잘린 보가트\n",
      "빌런투킬\n",
      "빅맨\n",
      "에이머\n",
      "은주의 방 2~3부\n",
      "플레이, 플리\n",
      "아이즈\n",
      "또 다른 사랑\n",
      "내남친 킹카만들기\n",
      "나의 플랏메이트\n",
      "한입만!\n",
      "제로게임\n",
      "사공은주\n",
      "열녀박씨 계약결혼뎐\n",
      "여우자매\n",
      "1331\n",
      "붉은 이정표\n",
      "풋내기들\n",
      "쿠쿠쿠쿠\n",
      "필리아로제 - 가시왕관의 예언\n",
      "주인님을 잡아먹는 방법\n",
      "짝사랑의 마침표\n",
      "벽간소음\n",
      "이 결혼, 새로고침\n",
      "NG불가\n",
      "이븐 모어\n",
      "나는 어디에나 있다\n",
      "테러사이트\n",
      "그 남주와 이별하는 방법\n",
      "마침내 사랑이에요 마왕님!\n",
      "그녀석 정복기\n",
      "AI 유하\n",
      "대신 심부름을 해다오\n",
      "원수가 나를 유혹할 때\n",
      "교환학생\n",
      "태시트\n",
      "급식러너\n",
      "달이 사라진 밤\n",
      "하나in세인\n",
      "잿빛오름\n",
      "찐:종합게임동아리\n",
      "너의 순정, 나의 순정\n",
      "마녀이야기\n",
      "지금 우리 연구소는\n",
      "내 남편과 결혼해줘\n",
      "전지적 독자 시점\n",
      "헬퍼 2 : 킬베로스\n",
      "먹는 인생\n",
      "격기3반\n",
      "일렉시드\n",
      "비즈니스 여친\n",
      "무림서부\n",
      "여고생 드래곤\n",
      "급식아빠\n",
      "튜토리얼 탑의 고인물\n",
      "내가 죽기로 결심한 것은\n",
      "나쁜사람\n",
      "이십팔세기 광팬\n",
      "연놈\n",
      "빌드업\n",
      "마른 가지에 바람처럼\n",
      "미래의 골동품 가게\n",
      "칼에 취한 밤을 걷다\n",
      "안녕, 나의 수집\n",
      "사상최강\n",
      "고삼무쌍\n",
      "쓰레기는 쓰레기통에!\n",
      "베스트 프렌드\n",
      "세상은 돈과 권력\n",
      "운명을 보는 회사원\n",
      "고교흥신소\n",
      "사내고충처리반\n",
      "아도나이\n",
      "판타지 여동생!\n",
      "물고기로 살아남기\n",
      "하렘의 남자들\n",
      "언덕 위의 제임스\n",
      "가짜 동맹\n",
      "무용과 남학생\n",
      "하얀 사자의 비밀 신부\n",
      "수요웹툰의 나강림\n",
      "마녀와 용의 신혼일기\n",
      "얼굴천재\n",
      "칼부림\n",
      "괴물공작의 딸\n",
      "로어 올림푸스\n",
      "영웅&마왕&악당\n",
      "헤어지면 죽음\n",
      "그 남자의 은밀한 하루\n",
      "반귀\n",
      "주부 육성중\n",
      "인과관계\n",
      "연애고수\n",
      "좀간\n",
      "두 번 사는 프로듀서\n",
      "범이올시다!\n",
      "밀행\n",
      "선배는 나빠요!\n",
      "홀리데이\n",
      "옆집남자 친구\n",
      "그림자의 밤\n",
      "내겐 너무 소란한 결혼\n",
      "안미운 우리들\n",
      "메모리얼\n",
      "잿빛도 색이다\n",
      "나의 계절\n",
      "사랑과 평강의 온달!\n",
      "구사일생 로맨스\n",
      "재생존경쟁\n",
      "컨트롤\n",
      "멸종위기종인간\n",
      "어느 백작 영애의 이중생활\n",
      "반짝반짝 작은 눈\n",
      "이별학\n",
      "클로닝\n",
      "해귀\n",
      "혁명 뒤 공주는\n",
      "하지만 너는 2D잖아\n",
      "낙원의 이론\n",
      "수호하는 너에게\n",
      "프로듀스 온리원\n",
      "이 짝사랑은 억울하다!\n",
      "필생기\n",
      "오직, 밝은 미래\n",
      "우리 은하\n",
      "산의 시간\n",
      "아이돌의 비밀 스터디\n",
      "연애혁명\n",
      "나노마신\n",
      "2022 몰래보는 로맨스\n",
      "남편을 죽여줘요\n",
      "천마육성\n",
      "현실퀘스트\n",
      "호랑신랑뎐\n",
      "나 혼자 네크로맨서\n",
      "뮤즈 온 유명\n",
      "무사만리행\n",
      "재벌집 막내아들\n",
      "회귀한 천재 헌터의 슬기로운 청소생활\n",
      "이상한 변호사 우영우\n",
      "별을 삼킨 너에게\n",
      "노답소녀\n",
      "버려진 나의 최애를 위하여\n",
      "비서 일탈\n",
      "루루라라 우리네 인생\n",
      "쿠베라\n",
      "순정빌런\n",
      "던전 씹어먹는 아티팩트\n",
      "최강전설 강해효\n",
      "꽃만 키우는데 너무강함\n",
      "트롤트랩\n",
      "게임 최강 트롤러\n",
      "코인 리벤지\n",
      "국세청 망나니\n",
      "완벽한 결혼의 정석\n",
      "누나! 나 무서워\n",
      "규격 외 혈통 천재\n",
      "마왕까지 한 걸음\n",
      "만능잡캐\n",
      "순수한 동거생활\n",
      "네가 죽기를 바랄 때가 있었다\n",
      "수영만화일기\n",
      "선남친 후연애\n",
      "황제사냥\n",
      "독거미\n",
      "아인슈페너\n",
      "킬더킹\n",
      "위대한 겸상\n",
      "관계중독\n",
      "가족같은 XX\n",
      "개와 사람의 시간\n",
      "소녀180\n",
      "오빠세끼\n",
      "진짜 진짜 이혼해\n",
      "만물의 영장\n",
      "베니루 BAENIRU\n",
      "두 번째 딸로 태어났습니다\n",
      "1학년 9반\n",
      "달의 요람\n",
      "천재의 게임방송\n",
      "THE 런웨이\n",
      "나의 불편한 상사\n",
      "오, 친애하는 숙적\n",
      "마녀의 심판은 꽃이 된다\n",
      "환상연가\n",
      "부캐인생\n",
      "황궁에 핀 꽃은, 미쳤다\n",
      "따개비\n",
      "방과후 레시피\n",
      "그 황제가 시곗바늘을 되돌린 사연\n",
      "이계 무슨 황비\n",
      "베어케어\n",
      "아빠같은 남자\n",
      "자취방 신선들\n",
      "가상&RPG\n",
      "온새미로\n",
      "온실 속 화초\n",
      "시에라\n",
      "돌아온 여기사\n",
      "카루나\n",
      "권리행사자\n",
      "배트맨: 웨인 패밀리 어드벤처\n",
      "로맨틱 태평수산\n",
      "나쁜 마법사의 꿈\n",
      "연애의 발견\n",
      "널 사랑하는 죽은 형\n",
      "보물과 괴물의 도시\n",
      "유월의 소한\n",
      "사랑하는 여배우들\n",
      "모어 라이프\n",
      "혼모노트\n",
      "외모지상주의\n",
      "대학원 탈출일지\n",
      "광마회귀\n",
      "나 혼자 만렙 뉴비\n",
      "어쩌다보니 천생연분\n",
      "역대급 영지 설계사\n",
      "데드퀸\n",
      "개를 낳았다\n",
      "1초\n",
      "세기말 풋사과 보습학원\n",
      "언다잉\n",
      "삼국지톡\n",
      "상남자\n",
      "낙향문사전\n",
      "언니, 이번 생엔 내가 왕비야\n",
      "사신\n",
      "서울역 드루이드\n",
      "천하제일 대사형\n",
      "소름일기\n",
      "말년용사\n",
      "히어로 킬러\n",
      "뜨거운 홍차\n",
      "A.I. 닥터\n",
      "그렇고 그런 바람에\n",
      "더 게이머\n",
      "웅크\n",
      "지옥 키우기\n",
      "폭군님은 착하게 살고 싶어\n",
      "온리호프\n",
      "여자를 사귀고 싶다\n",
      "플레이어\n",
      "푸쉬오프\n",
      "성스러운 그대 이르시길\n",
      "이터널 포스\n",
      "하나는 적고 둘은 너무 많아\n",
      "기억해줘\n",
      "너의 미소가 함정\n",
      "선을 넘은 연애\n",
      "후덜덜덜 남극전자\n",
      "킬 더 드래곤\n",
      "문제적 왕자님\n",
      "스포\n",
      "절대복종\n",
      "세라는 망돌\n",
      "멜빈이 그들에게 남긴 것\n",
      "달이 없는 나라\n",
      "메소드 연기법\n",
      "상위1%\n",
      "여름여자 하보이\n",
      "네버엔딩달링\n",
      "몽홀\n",
      "솔트앤페퍼\n",
      "로또 황녀님\n",
      "스토커의 하루\n",
      "쿠쿠쿠쿠\n",
      "백년게임\n",
      "트럼프\n",
      "악마라고 불러다오\n",
      "지니오패스\n",
      "아찔한 전남편\n",
      "미친 후작을 길들이고 말았다\n",
      "이게 아닌데\n",
      "인피니티\n",
      "재앙의 날\n",
      "태권보이\n",
      "미드우트\n",
      "비밀친구\n",
      "드래곤의 심장을 가지고 있습니다\n",
      "짝사랑 마들렌\n",
      "별빛 커튼콜\n",
      "천상의 주인\n",
      "합법해적 파르페\n",
      "여름의 너에게\n",
      "너의 키스씬\n",
      "스치면 인연 스며들면 사랑\n",
      "팬시X팬시\n",
      "서울시 천사주의\n",
      "너에게 입덕중\n",
      "99강화나무몽둥이\n",
      "호랑이형님\n",
      "2022 몰래보는 로맨스\n",
      "취사병 전설이 되다\n",
      "먹는 인생\n",
      "프리드로우\n",
      "놓지마 정신줄 시즌3\n",
      "여고생 드래곤\n",
      "세레나\n",
      "망나니 소교주로 환생했다\n",
      "은탄\n",
      "악몽의 형상\n",
      "이십팔세기 광팬\n",
      "아홉수 우리들\n",
      "스터디그룹\n",
      "민간인 통제구역 - 일급기밀\n",
      "나이트런\n",
      "작전명 순정\n",
      "청춘 블라썸\n",
      "윌유메리미\n",
      "반드시 해피엔딩\n",
      "나태 공자, 노력 천재 되다\n",
      "간첩 18세\n",
      "소공녀 민트\n",
      "나를 바꿔줘\n",
      "어글리후드\n",
      "물위의 우리\n",
      "존잘주의\n",
      "아사\n",
      "미나 이퀄\n",
      "남편 먹는 여자\n",
      "탑코너\n",
      "겨울특강\n",
      "용두사망 소설 속의 악녀가 되었다\n",
      "좀비 파이트\n",
      "태백 : 튜토리얼 맨\n",
      "아이돌만 하고 싶었는데\n",
      "시선 끝 브로콜리\n",
      "홍시는 날 좋아해!\n",
      "디펜스 게임의 폭군이 되었다\n",
      "용사참수인\n",
      "남편을 만렙으로 키우려 합니다\n",
      "엑스애쉬\n",
      "왕세자 입학도\n",
      "팬인데 왜요\n",
      "대충 캠퍼스로맨스임\n",
      "같은 학교 친구\n",
      "이계진입 리로디드\n",
      "공유몽\n",
      "폭군 남편과 이혼하겠습니다\n",
      "지옥급식\n",
      "광해의 연인\n",
      "완벽한 부부는 없다\n",
      "묘령의 황자\n",
      "메트로헌터\n",
      "최면학교\n",
      "마법사가 죽음을 맞이하는 방법\n",
      "최강부캐\n",
      "은둔코인\n",
      "복수를 위한 결혼동맹\n",
      "키스 식스 센스\n",
      "다비, 아찔하게 흐르는\n",
      "전생연분\n",
      "소년 검사\n",
      "적월의 나라\n",
      "중매쟁이 아가 황녀님\n",
      "모두 너였다\n",
      "왕년엔 용사님\n",
      "배달의 신\n",
      "청춘일지\n",
      "7FATES: CHAKHO\n",
      "키스의 여왕\n",
      "도사 가온\n",
      "좋아해 아니 싫어해\n",
      "아가사\n",
      "이건 그냥 연애 이야기\n",
      "밤을 깨우는 마법\n",
      "스트릿 워크아웃\n",
      "숨겨진 성녀\n",
      "아침을 지나 밤으로\n",
      "보고 있지?\n",
      "실버 쥬얼\n",
      "보듬보듬\n",
      "싸움독학\n",
      "입학용병\n",
      "약한영웅\n",
      "사형소년\n",
      "수희0(tngmlek0)\n",
      "자매전쟁\n",
      "칼끝에 입술\n",
      "시월드가 내게 집착한다\n",
      "천하제일인\n",
      "안녕, 나의 수집\n",
      "약빨이 신선함\n",
      "살아남은 로맨스\n",
      "가비지타임\n",
      "판사 이한영\n",
      "곱게 키웠더니, 짐승\n",
      "분신으로 자동사냥\n",
      "무서운게 딱좋아!\n",
      "내일\n",
      "아카데미에 위장취업당했다\n",
      "백설을 위하여\n",
      "오로지 너를 이기고 싶어\n",
      "마법스크롤 상인 지오\n",
      "어느날 갑자기 서울은\n",
      "일타강사 백사부\n",
      "노량진 공격대\n",
      "합격시켜주세용\n",
      "경자 전성시대\n",
      "헬스던전\n",
      "천년간 노려왔습니다\n",
      "위닝샷!\n",
      "폰투스 : 극야2\n",
      "장풍전\n",
      "동생친구\n",
      "고백 취소도 되나?\n",
      "랑데뷰\n",
      "청춘계시록\n",
      "완벽한 파트너\n",
      "손 안의 안단테\n",
      "천치전능\n",
      "평행도시\n",
      "생존로그\n",
      "장미같은 소리\n",
      "몸이 바뀌는 사정\n",
      "결혼까지 망상했어!\n",
      "위험한 남편을 길들이는 법\n",
      "키미앤조이\n",
      "108명의 그녀들\n",
      "홍 의관의 은밀한 비밀\n",
      "마왕의 고백\n",
      "나의 작은 서점\n",
      "하렘에서 살아남기\n",
      "여우애담\n",
      "전설의 화석\n",
      "돌&아이\n",
      "내곁엔 없을까\n",
      "킬링킬러\n",
      "그림자 잡기\n",
      "데빌샷\n",
      "DARK MOON: 달의 제단\n",
      "후궁 스캔들\n",
      "소녀재판\n",
      "생존고백\n",
      "마도\n",
      "보스의 노골적 취향\n",
      "철수와 영희 이야기\n",
      "6월의 라벤더\n",
      "마섹남 - 마술하는 섹시한 남자\n",
      "보통아이\n",
      "패션쇼\n",
      "사람은 고쳐 쓰는 게 아니야!\n",
      "샤인 스타\n",
      "블러드 리벤저\n",
      "거래하실래요?\n",
      "아마도, 굿모닝\n",
      "밀실 마피아 게임\n",
      "조선여우스캔들\n",
      "독신마법사 기숙아파트\n",
      "어떤소란\n",
      "구해줘, 호구!\n"
     ]
    }
   ],
   "source": [
    "url = 'https://comic.naver.com/webtoon/weekday'\n",
    "res = requests.get(url)\n",
    "res.raise_for_status()\n",
    "\n",
    "soup = BeautifulSoup(res.text, 'lxml')\n",
    "cartoons = soup.find_all('a', attrs={'class':'title'}) #soup객체에서 태그명이 a이고 class명이 title인 애를 가져옴\n",
    "#for문을 통해 list 만들기\n",
    "for i in cartoons:\n",
    "    print(i.get_text())"
   ]
  },
  {
   "cell_type": "markdown",
   "id": "560b4c95",
   "metadata": {},
   "source": [
    "### (2) 가우스 전자 제목 크롤링"
   ]
  },
  {
   "cell_type": "code",
   "execution_count": 99,
   "id": "5fce97b3",
   "metadata": {
    "scrolled": true
   },
   "outputs": [
    {
     "name": "stdout",
     "output_type": "stream",
     "text": [
      "[<td class=\"title\">\n",
      "<a href=\"/webtoon/detail?titleId=799793&amp;no=50&amp;weekday=mon\" onclick=\"nclk_v2(event,'lst.title','799793','50')\">50화 도시농업, 남동생, 결재타이밍, 이해, 상식씨!</a>\n",
      "</td>, <td class=\"title\">\n",
      "<a href=\"/webtoon/detail?titleId=799793&amp;no=49&amp;weekday=mon\" onclick=\"nclk_v2(event,'lst.title','799793','49')\">49화 용기, 보릿고개, 설계, 다이어트식단, 소개팅</a>\n",
      "</td>, <td class=\"title\">\n",
      "<a href=\"/webtoon/detail?titleId=799793&amp;no=48&amp;weekday=mon\" onclick=\"nclk_v2(event,'lst.title','799793','48')\">48화 한수위, 걱정, 시간절약, 체육대회, 체육대회2</a>\n",
      "</td>, <td class=\"title\">\n",
      "<a href=\"/webtoon/detail?titleId=799793&amp;no=47&amp;weekday=mon\" onclick=\"nclk_v2(event,'lst.title','799793','47')\">47화 뒷담화, 호기심, 한자리, 차사지마, 김치</a>\n",
      "</td>, <td class=\"title\">\n",
      "<a href=\"/webtoon/detail?titleId=799793&amp;no=46&amp;weekday=mon\" onclick=\"nclk_v2(event,'lst.title','799793','46')\">46화 유체이탈, 장점, 운동, 면접, 회식</a>\n",
      "</td>, <td class=\"title\">\n",
      "<a href=\"/webtoon/detail?titleId=799793&amp;no=45&amp;weekday=mon\" onclick=\"nclk_v2(event,'lst.title','799793','45')\">45화 가우스파인더, 스포츠마케팅, 첫임무, 외국계회사, 전화위복</a>\n",
      "</td>, <td class=\"title\">\n",
      "<a href=\"/webtoon/detail?titleId=799793&amp;no=44&amp;weekday=mon\" onclick=\"nclk_v2(event,'lst.title','799793','44')\">44화 어깨너머, 교육, 2차장소, 친절, 유니폼</a>\n",
      "</td>, <td class=\"title\">\n",
      "<a href=\"/webtoon/detail?titleId=799793&amp;no=43&amp;weekday=mon\" onclick=\"nclk_v2(event,'lst.title','799793','43')\">43화 처신, 비난, 층간소음, 한장보고서, 태양폭발</a>\n",
      "</td>, <td class=\"title\">\n",
      "<a href=\"/webtoon/detail?titleId=799793&amp;no=42&amp;weekday=mon\" onclick=\"nclk_v2(event,'lst.title','799793','42')\">42화 추궁, 빌딩, 냄새, 인맥, 방법</a>\n",
      "</td>, <td class=\"title\">\n",
      "<a href=\"/webtoon/detail?titleId=799793&amp;no=41&amp;weekday=mon\" onclick=\"nclk_v2(event,'lst.title','799793','41')\">41화 동아리모임, 카풀, 오피스와이프, 개학, 목격</a>\n",
      "</td>]\n"
     ]
    }
   ],
   "source": [
    "url = 'https://comic.naver.com/webtoon/list?titleId=799793'\n",
    "res = requests.get(url)\n",
    "res.raise_for_status()\n",
    "\n",
    "soup = BeautifulSoup(res.text, 'lxml')\n",
    "cartoons = soup.find_all('td', attrs={'class':'title'}) #td태그에 클래스가 타이틀인 애들만 가져오기 \n",
    "title = cartoons[0].a.get_text() #타이틀 클래스 안엔 정보가 없으므로 그 아래의 a태그에 정보가 있음 \n",
    "print(cartoons)"
   ]
  },
  {
   "cell_type": "code",
   "execution_count": 47,
   "id": "2e563bd4",
   "metadata": {},
   "outputs": [
    {
     "name": "stdout",
     "output_type": "stream",
     "text": [
      "50화 도시농업, 남동생, 결재타이밍, 이해, 상식씨!\n"
     ]
    }
   ],
   "source": [
    "print(title)"
   ]
  },
  {
   "cell_type": "markdown",
   "id": "1bdb77cb",
   "metadata": {},
   "source": [
    "### 링크 정보도 가져오기"
   ]
  },
  {
   "cell_type": "code",
   "execution_count": 48,
   "id": "4060ba42",
   "metadata": {},
   "outputs": [
    {
     "name": "stdout",
     "output_type": "stream",
     "text": [
      "/webtoon/detail?titleId=799793&no=50&weekday=mon\n"
     ]
    }
   ],
   "source": [
    "link = cartoons[0].a['href']\n",
    "print(link) #/webtoon 앞에 comic.naver.com부분이 있어야함"
   ]
  },
  {
   "cell_type": "code",
   "execution_count": 49,
   "id": "1f051d92",
   "metadata": {},
   "outputs": [
    {
     "name": "stdout",
     "output_type": "stream",
     "text": [
      "https://comic.naver.com//webtoon/detail?titleId=799793&no=50&weekday=mon\n"
     ]
    }
   ],
   "source": [
    "print('https://comic.naver.com/'+link)"
   ]
  },
  {
   "cell_type": "markdown",
   "id": "46dfe55d",
   "metadata": {},
   "source": [
    "###  for문으로 title, link가져오기"
   ]
  },
  {
   "cell_type": "code",
   "execution_count": 50,
   "id": "2addc604",
   "metadata": {},
   "outputs": [
    {
     "name": "stdout",
     "output_type": "stream",
     "text": [
      "50화 도시농업, 남동생, 결재타이밍, 이해, 상식씨! https://comic.naver.com//webtoon/detail?titleId=799793&no=50&weekday=mon\n",
      "49화 용기, 보릿고개, 설계, 다이어트식단, 소개팅 https://comic.naver.com//webtoon/detail?titleId=799793&no=49&weekday=mon\n",
      "48화 한수위, 걱정, 시간절약, 체육대회, 체육대회2 https://comic.naver.com//webtoon/detail?titleId=799793&no=48&weekday=mon\n",
      "47화 뒷담화, 호기심, 한자리, 차사지마, 김치 https://comic.naver.com//webtoon/detail?titleId=799793&no=47&weekday=mon\n",
      "46화 유체이탈, 장점, 운동, 면접, 회식 https://comic.naver.com//webtoon/detail?titleId=799793&no=46&weekday=mon\n",
      "45화 가우스파인더, 스포츠마케팅, 첫임무, 외국계회사, 전화위복 https://comic.naver.com//webtoon/detail?titleId=799793&no=45&weekday=mon\n",
      "44화 어깨너머, 교육, 2차장소, 친절, 유니폼 https://comic.naver.com//webtoon/detail?titleId=799793&no=44&weekday=mon\n",
      "43화 처신, 비난, 층간소음, 한장보고서, 태양폭발 https://comic.naver.com//webtoon/detail?titleId=799793&no=43&weekday=mon\n",
      "42화 추궁, 빌딩, 냄새, 인맥, 방법 https://comic.naver.com//webtoon/detail?titleId=799793&no=42&weekday=mon\n",
      "41화 동아리모임, 카풀, 오피스와이프, 개학, 목격 https://comic.naver.com//webtoon/detail?titleId=799793&no=41&weekday=mon\n"
     ]
    }
   ],
   "source": [
    "for i in cartoons:\n",
    "    title = i.a.get_text()\n",
    "    link = 'https://comic.naver.com/' +i.a['href']\n",
    "    rank = \n",
    "    print(title, link)"
   ]
  },
  {
   "cell_type": "markdown",
   "id": "fd9ee9b6",
   "metadata": {},
   "source": [
    "### 평점 정보 가져오기"
   ]
  },
  {
   "cell_type": "code",
   "execution_count": 100,
   "id": "bc4aee41",
   "metadata": {},
   "outputs": [
    {
     "data": {
      "text/plain": [
       "'9.51'"
      ]
     },
     "execution_count": 100,
     "metadata": {},
     "output_type": "execute_result"
    }
   ],
   "source": [
    "rank = soup.find_all('div', attrs={'class':'rating_type'})\n",
    "rank[0].strong.get_text()"
   ]
  },
  {
   "cell_type": "code",
   "execution_count": 101,
   "id": "d1618bc9",
   "metadata": {},
   "outputs": [
    {
     "data": {
      "text/plain": [
       "bs4.element.ResultSet"
      ]
     },
     "execution_count": 101,
     "metadata": {},
     "output_type": "execute_result"
    }
   ],
   "source": [
    "type(rank)"
   ]
  },
  {
   "cell_type": "code",
   "execution_count": 62,
   "id": "8d39c1f7",
   "metadata": {},
   "outputs": [
    {
     "data": {
      "text/plain": [
       "'9.81'"
      ]
     },
     "execution_count": 62,
     "metadata": {},
     "output_type": "execute_result"
    }
   ],
   "source": [
    "rank[1].strong.get_text()"
   ]
  },
  {
   "cell_type": "code",
   "execution_count": 68,
   "id": "f3a8c22f",
   "metadata": {},
   "outputs": [
    {
     "data": {
      "text/plain": [
       "'9.81'"
      ]
     },
     "execution_count": 68,
     "metadata": {},
     "output_type": "execute_result"
    }
   ],
   "source": [
    "rank[1].find('strong').get_text() #rank[1]번째에서 strong인 애를 찾아서 text인 애만 찾을거야"
   ]
  },
  {
   "cell_type": "code",
   "execution_count": 95,
   "id": "46ef0748",
   "metadata": {},
   "outputs": [
    {
     "data": {
      "text/plain": [
       "<div class=\"rating_type\">\n",
       "<span class=\"star\"><em style=\"width:95.12%\">평점</em></span>\n",
       "<strong>9.51</strong>\n",
       "</div>"
      ]
     },
     "execution_count": 95,
     "metadata": {},
     "output_type": "execute_result"
    }
   ],
   "source": [
    "rank[0]"
   ]
  },
  {
   "cell_type": "code",
   "execution_count": 94,
   "id": "ef38cac2",
   "metadata": {},
   "outputs": [
    {
     "data": {
      "text/plain": [
       "5"
      ]
     },
     "execution_count": 94,
     "metadata": {},
     "output_type": "execute_result"
    }
   ],
   "source": [
    "len(rank[0])"
   ]
  },
  {
   "cell_type": "code",
   "execution_count": 93,
   "id": "f81e34cd",
   "metadata": {
    "scrolled": true
   },
   "outputs": [
    {
     "name": "stdout",
     "output_type": "stream",
     "text": [
      "[<div class=\"rating_type\">\n",
      "<span class=\"star\"><em style=\"width:95.12%\">평점</em></span>\n",
      "<strong>9.51</strong>\n",
      "</div>, <div class=\"rating_type\">\n",
      "<span class=\"star\"><em style=\"width:98.09%\">평점</em></span>\n",
      "<strong>9.81</strong>\n",
      "</div>, <div class=\"rating_type\">\n",
      "<span class=\"star\"><em style=\"width:98.77%\">평점</em></span>\n",
      "<strong>9.88</strong>\n",
      "</div>, <div class=\"rating_type\">\n",
      "<span class=\"star\"><em style=\"width:97.93%\">평점</em></span>\n",
      "<strong>9.79</strong>\n",
      "</div>, <div class=\"rating_type\">\n",
      "<span class=\"star\"><em style=\"width:97.56%\">평점</em></span>\n",
      "<strong>9.76</strong>\n",
      "</div>, <div class=\"rating_type\">\n",
      "<span class=\"star\"><em style=\"width:98.51%\">평점</em></span>\n",
      "<strong>9.85</strong>\n",
      "</div>, <div class=\"rating_type\">\n",
      "<span class=\"star\"><em style=\"width:98.27%\">평점</em></span>\n",
      "<strong>9.83</strong>\n",
      "</div>, <div class=\"rating_type\">\n",
      "<span class=\"star\"><em style=\"width:98.66%\">평점</em></span>\n",
      "<strong>9.87</strong>\n",
      "</div>, <div class=\"rating_type\">\n",
      "<span class=\"star\"><em style=\"width:98.72%\">평점</em></span>\n",
      "<strong>9.87</strong>\n",
      "</div>, <div class=\"rating_type\">\n",
      "<span class=\"star\"><em style=\"width:98.86%\">평점</em></span>\n",
      "<strong>9.89</strong>\n",
      "</div>]\n"
     ]
    }
   ],
   "source": [
    "print(rank)"
   ]
  },
  {
   "cell_type": "code",
   "execution_count": 97,
   "id": "4d2185e9",
   "metadata": {},
   "outputs": [
    {
     "name": "stdout",
     "output_type": "stream",
     "text": [
      "9.51 10 5\n",
      "9.81 10 5\n",
      "9.88 10 5\n",
      "9.79 10 5\n",
      "9.76 10 5\n",
      "9.85 10 5\n",
      "9.83 10 5\n",
      "9.87 10 5\n",
      "9.87 10 5\n",
      "9.89 10 5\n"
     ]
    }
   ],
   "source": [
    "total_rate = 0\n",
    "for i in rank:\n",
    "    rate = i.find('strong').get_text()\n",
    "    total_rate += float(rate)\n",
    "    print(rate, len(rank), len(i))"
   ]
  },
  {
   "cell_type": "code",
   "execution_count": 98,
   "id": "e02f1d5b",
   "metadata": {},
   "outputs": [
    {
     "name": "stdout",
     "output_type": "stream",
     "text": [
      "전체점수: 98.06000000000002\n",
      "회차개수: 10\n",
      "평균점수: 9.806000000000001\n",
      "19.612000000000002\n"
     ]
    }
   ],
   "source": [
    "print('전체점수:', total_rate)\n",
    "print('회차개수:', len(rank))\n",
    "print('평균점수:', total_rate/len(rank))\n",
    "print(total_rate/len(i))"
   ]
  },
  {
   "cell_type": "code",
   "execution_count": null,
   "id": "568dda36",
   "metadata": {},
   "outputs": [],
   "source": []
  }
 ],
 "metadata": {
  "kernelspec": {
   "display_name": "Python 3",
   "language": "python",
   "name": "python3"
  },
  "language_info": {
   "codemirror_mode": {
    "name": "ipython",
    "version": 3
   },
   "file_extension": ".py",
   "mimetype": "text/x-python",
   "name": "python",
   "nbconvert_exporter": "python",
   "pygments_lexer": "ipython3",
   "version": "3.8.8"
  }
 },
 "nbformat": 4,
 "nbformat_minor": 5
}
