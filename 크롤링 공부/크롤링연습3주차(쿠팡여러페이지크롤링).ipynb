{
 "cells": [
  {
   "cell_type": "code",
   "execution_count": 1,
   "id": "9a439728",
   "metadata": {},
   "outputs": [],
   "source": [
    "import requests\n",
    "import re\n",
    "from bs4 import BeautifulSoup\n",
    "headers = {'User-Agent' : \"Mozilla/5.0 (Windows NT 10.0; Win64; x64) AppleWebKit/537.36 (KHTML, like Gecko) Chrome/104.0.0.0 Safari/537.36\", 'Accept-Language':\"ko-KR,ko;q=0.8,en-US;q=0.5,en;q=0.3\"}"
   ]
  },
  {
   "cell_type": "code",
   "execution_count": 3,
   "id": "f3e0dce1",
   "metadata": {},
   "outputs": [
    {
     "ename": "IndentationError",
     "evalue": "expected an indented block (<ipython-input-3-2f1f8c5488d2>, line 10)",
     "output_type": "error",
     "traceback": [
      "\u001b[1;36m  File \u001b[1;32m\"<ipython-input-3-2f1f8c5488d2>\"\u001b[1;36m, line \u001b[1;32m10\u001b[0m\n\u001b[1;33m    ad_badge = i.find('span',attrs={'class':'ad-badge-text'})\u001b[0m\n\u001b[1;37m    ^\u001b[0m\n\u001b[1;31mIndentationError\u001b[0m\u001b[1;31m:\u001b[0m expected an indented block\n"
     ]
    }
   ],
   "source": [
    "for i in range(1,6):\n",
    "    print(\"페이지:\", i)\n",
    "    url = 'https://www.coupang.com/np/search?q=%EB%85%B8%ED%8A%B8%EB%B6%81&channel=user&component=&eventCategory=SRP&trcid=&traid=&sorter=scoreDesc&minPrice=&maxPrice=&priceRange=&filterType=&listSize=36&filter=&isPriceRange=false&brand=&offerCondition=&rating=0&page={}&rocketAll=false&searchIndexingToken=1=4&backgroundColor='.format(i)\n",
    "    res = requests.get(url)\n",
    "    res.raise_for_status()\n",
    "    soup = BeautifulSoup(res.text,'lxml')\n",
    "    \n",
    "    for i in items:\n",
    "    #광고 제품은 제외\n",
    "    ad_badge = i.find('span',attrs={'class':'ad-badge-text'})\n",
    "    if ad_badge:\n",
    "        print('광고상품제외')\n",
    "        continue\n",
    "        \n",
    "    name = i.find('div',attrs={'class':'name'}),get_text() #제품명\n",
    "    #애플 제품 제외\n",
    "    if 'Apple' in name:\n",
    "        print('애플상품제외')\n",
    "        continue\n",
    "    \n",
    "    price = i.find('strong', attrs={'class':'price-value'}).get_text() #가격\n",
    "    \n",
    "    rate = i.find('em', attrs={'class':'rating'}) #평점, 출력값(예: 4.5)\n",
    "    if rate:\n",
    "        rate = rate.get_text()\n",
    "    else:\n",
    "        print('평점없는상품제외')\n",
    "        continue\n",
    "        \n",
    "    rate_cnt = i.find('span', attrs={'class':'rating-total-count'}) #평점 수, 출력값(예: (26))\n",
    "    if rate_cnt:\n",
    "        rate_cnt = rate_cnt.get_text()\n",
    "        rate_cnt = rate_cnt[1:-1] #1번째 글자부터 마지막맨앞까지 출력. 즉, 괄호를 없애줌 \n",
    "    else:\n",
    "        print('평점수없는상품제외')\n",
    "        continue\n",
    "    \n",
    "    link = i.find(\"a\",attrs={'class':'search-product-link'})['href']\n",
    "    \n",
    "    #리뷰 100개 이상이면서 평점 4.5 이상 되는 것만 조회\n",
    "    if float(rate)>= 4.5 & int(rate_cnt) >= 50:\n",
    "        #print(name,price,rate,rate_cnt)\n",
    "        print(f'제품명:, {name}')\n",
    "        print(f'평점:, {rate}')\n",
    "        print(f'평점수:, {rate_cnt}')\n",
    "        print(f'가격:, {price}')\n",
    "        print('바로가기: {}'.format('https://www.coupang.com'+link))"
   ]
  },
  {
   "cell_type": "code",
   "execution_count": null,
   "id": "3f79448c",
   "metadata": {},
   "outputs": [],
   "source": []
  }
 ],
 "metadata": {
  "kernelspec": {
   "display_name": "Python 3",
   "language": "python",
   "name": "python3"
  },
  "language_info": {
   "codemirror_mode": {
    "name": "ipython",
    "version": 3
   },
   "file_extension": ".py",
   "mimetype": "text/x-python",
   "name": "python",
   "nbconvert_exporter": "python",
   "pygments_lexer": "ipython3",
   "version": "3.8.8"
  }
 },
 "nbformat": 4,
 "nbformat_minor": 5
}
