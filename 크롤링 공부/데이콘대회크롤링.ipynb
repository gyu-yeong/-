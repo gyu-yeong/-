{
 "cells": [
  {
   "cell_type": "code",
   "execution_count": 1,
   "id": "4d099ebf",
   "metadata": {},
   "outputs": [],
   "source": [
    "import requests\n",
    "from bs4 import BeautifulSoup\n",
    "from selenium import webdriver\n",
    "from selenium.webdriver.common.by import By\n",
    "import time\n",
    "import datetime"
   ]
  },
  {
   "cell_type": "code",
   "execution_count": 3,
   "id": "448377a3",
   "metadata": {},
   "outputs": [
    {
     "name": "stdout",
     "output_type": "stream",
     "text": [
      "15\n"
     ]
    }
   ],
   "source": [
    "url = 'https://dacon.io/competitions'\n",
    "headers = {'User-Agent' : 'Mozilla/5.0 (Windows NT 10.0; Win64; x64) AppleWebKit/537.36 (KHTML, like Gecko) Chrome/107.0.0.0 Safari/537.36',\n",
    "           \"Accept-Language\": \"ko-KR,ko;q=0.8,en-US;q=0.5,en;q=0.3\"}\n",
    "res = requests.get(url, headers=headers)\n",
    "res.raise_for_status() #문제있으면 종료\n",
    "\n",
    "\n",
    "soup = BeautifulSoup(res.text,'lxml')\n",
    "\n",
    "com =  soup.find_all(\"div\", attrs={\"class\":[\"comp\"]})\n",
    "print(len(com))"
   ]
  },
  {
   "cell_type": "code",
   "execution_count": 4,
   "id": "dfe4a28d",
   "metadata": {
    "collapsed": true
   },
   "outputs": [
    {
     "data": {
      "text/plain": [
       "[<div class=\"comp\" data-v-1895150d=\"\"><a class=\"clearfix\" data-v-1895150d=\"\" href=\"/competitions/official/236033/overview/\"><div class=\"pic\" data-v-1895150d=\"\"><img alt=\"상추의 생육 환경 생성 AI 경진대회\" data-v-1895150d=\"\" src=\"https://dacon.s3.ap-northeast-2.amazonaws.com/competition/236033/logo_cpt.jpeg\"/></div> <div class=\"desc\" data-v-1895150d=\"\"><p class=\"name ellipsis\" data-v-1895150d=\"\">상추의 생육 환경 생성 AI 경진대회</p> <p class=\"info2 ellipsis keyword\" data-v-1895150d=\"\"><span data-v-1895150d=\"\">알고리즘 | 정형 | 생육 | 회귀 | 생성 | RMSE | 정성평가</span></p> <div class=\"sponsor\" data-v-1895150d=\"\"><!-- --></div></div> <div class=\"etc\" data-v-1895150d=\"\"><div class=\"dday\" data-v-1895150d=\"\"><img alt=\"participating\" data-v-1895150d=\"\" src=\"/img/participating.jpg\"/>  참가신청중\n",
       "                 </div> <div class=\"joinTeam\" data-v-1895150d=\"\"><!-- -->\n",
       "                   252명\n",
       "                 </div> <!-- --></div></a></div>,\n",
       " <div class=\"comp\" data-v-1895150d=\"\"><a class=\"clearfix\" data-v-1895150d=\"\" href=\"/competitions/official/236013/overview/\"><div class=\"pic\" data-v-1895150d=\"\"><img alt=\"건설기계 오일 상태 분류 AI 경진대회\" data-v-1895150d=\"\" src=\"https://dacon.s3.ap-northeast-2.amazonaws.com/competition/236013/logo_cpt.jpeg\"/></div> <div class=\"desc\" data-v-1895150d=\"\"><p class=\"name ellipsis\" data-v-1895150d=\"\">건설기계 오일 상태 분류 AI 경진대회</p> <p class=\"info2 ellipsis keyword\" data-v-1895150d=\"\"><span data-v-1895150d=\"\">알고리즘 | 정형 | 건설기계 | 분류 | Macro f1 score</span></p> <div class=\"sponsor\" data-v-1895150d=\"\"><!-- --></div></div> <div class=\"etc\" data-v-1895150d=\"\"><div class=\"dday\" data-v-1895150d=\"\"><img alt=\"participating\" data-v-1895150d=\"\" src=\"/img/participating.jpg\"/>  참가신청중\n",
       "                 </div> <div class=\"joinTeam\" data-v-1895150d=\"\"><!-- -->\n",
       "                   880명\n",
       "                 </div> <!-- --></div></a></div>,\n",
       " <div class=\"comp\" data-v-1895150d=\"\"><a class=\"clearfix\" data-v-1895150d=\"\" href=\"/competitions/official/236029/overview/\"><div class=\"pic\" data-v-1895150d=\"\"><img alt=\"2022 UOS 빅데이터 알고리즘 경진대회\" data-v-1895150d=\"\" src=\"https://dacon.s3.ap-northeast-2.amazonaws.com/competition/236029/logo_cpt.jpeg\"/></div> <div class=\"desc\" data-v-1895150d=\"\"><p class=\"name ellipsis\" data-v-1895150d=\"\">2022 UOS 빅데이터 알고리즘 경진대회</p> <p class=\"info2 ellipsis keyword\" data-v-1895150d=\"\"><span data-v-1895150d=\"\">알고리즘 | 정형 | 시계열 | 수요 예측 | 회귀 | MAE</span></p> <div class=\"sponsor\" data-v-1895150d=\"\"><!-- --></div></div> <div class=\"etc\" data-v-1895150d=\"\"><div class=\"dday\" data-v-1895150d=\"\"><img alt=\"participating\" data-v-1895150d=\"\" src=\"/img/participating.jpg\"/>  참가신청중\n",
       "                 </div> <div class=\"joinTeam\" data-v-1895150d=\"\"><!-- -->\n",
       "                   376명\n",
       "                 </div> <!-- --></div></a></div>,\n",
       " <div class=\"comp\" data-v-1895150d=\"\"><a class=\"clearfix\" data-v-1895150d=\"\" href=\"/competitions/official/236011/overview/\"><div class=\"pic\" data-v-1895150d=\"\"><img alt=\"유방암의 임파선 전이 예측 AI경진대회 \" data-v-1895150d=\"\" src=\"https://dacon.s3.ap-northeast-2.amazonaws.com/competition/236011/logo_cpt.jpeg\"/></div> <div class=\"desc\" data-v-1895150d=\"\"><p class=\"name ellipsis\" data-v-1895150d=\"\">유방암의 임파선 전이 예측 AI경진대회 </p> <p class=\"info2 ellipsis keyword\" data-v-1895150d=\"\"><span data-v-1895150d=\"\">알고리즘 | 비전 | 정형 | 의료 | 분류 | Macro F1 score</span></p> <div class=\"sponsor\" data-v-1895150d=\"\"><!-- --></div></div> <div class=\"etc\" data-v-1895150d=\"\"><div class=\"dday\" data-v-1895150d=\"\"><img alt=\"participating\" data-v-1895150d=\"\" src=\"/img/participating.jpg\"/>  참가신청중\n",
       "                 </div> <div class=\"joinTeam\" data-v-1895150d=\"\"><!-- -->\n",
       "                   984명\n",
       "                 </div> <!-- --></div></a></div>,\n",
       " <div class=\"comp\" data-v-1895150d=\"\"><a class=\"clearfix\" data-v-1895150d=\"\" href=\"/competitions/official/236027/overview/\"><div class=\"pic\" data-v-1895150d=\"\"><img alt=\"월간 데이콘 발화자의 감정인식 AI 경진대회 \" data-v-1895150d=\"\" src=\"https://dacon.s3.ap-northeast-2.amazonaws.com/competition/236027/logo_cpt.jpeg\"/></div> <div class=\"desc\" data-v-1895150d=\"\"><p class=\"name ellipsis\" data-v-1895150d=\"\">월간 데이콘 발화자의 감정인식 AI 경진대회 </p> <p class=\"info2 ellipsis keyword\" data-v-1895150d=\"\"><span data-v-1895150d=\"\">알고리즘 | 언어 | 분류 | Macro f1 score</span></p> <div class=\"sponsor\" data-v-1895150d=\"\"><!-- --></div></div> <div class=\"etc\" data-v-1895150d=\"\"><div class=\"dday\" data-v-1895150d=\"\"><img alt=\"participating\" data-v-1895150d=\"\" src=\"/img/participating.jpg\"/>  참가신청중\n",
       "                 </div> <div class=\"joinTeam\" data-v-1895150d=\"\"><!-- -->\n",
       "                   436명\n",
       "                 </div> <!-- --></div></a></div>,\n",
       " <div class=\"comp\" data-v-1895150d=\"\"><a class=\"clearfix\" data-v-1895150d=\"\" href=\"/competitions/official/236012/overview/\"><div class=\"pic\" data-v-1895150d=\"\"><img alt=\"디지털 활용 관광 산업발전 BI(Business Idea) 경진대회\" data-v-1895150d=\"\" src=\"https://dacon.s3.ap-northeast-2.amazonaws.com/competition/236012/logo_cpt.jpeg\"/></div> <div class=\"desc\" data-v-1895150d=\"\"><p class=\"name ellipsis\" data-v-1895150d=\"\">디지털 활용 관광 산업발전 BI(Business Idea) 경진대회</p> <p class=\"info2 ellipsis keyword\" data-v-1895150d=\"\"><span data-v-1895150d=\"\">제주도 | 관광 | 산업 | 분석 아이디어</span></p> <div class=\"sponsor\" data-v-1895150d=\"\"><!-- --></div></div> <div class=\"etc\" data-v-1895150d=\"\"><div class=\"dday\" data-v-1895150d=\"\"><img alt=\"participating\" data-v-1895150d=\"\" src=\"/img/participating.jpg\"/>  참가신청중\n",
       "                 </div> <div class=\"joinTeam\" data-v-1895150d=\"\"><!-- -->\n",
       "                   151명\n",
       "                 </div> <!-- --></div></a></div>,\n",
       " <div class=\"comp\" data-v-1895150d=\"\"><a class=\"clearfix\" data-v-1895150d=\"\" href=\"/competitions/official/235985/overview/\"><div class=\"pic\" data-v-1895150d=\"\"><img alt=\"제주도 도로 교통량 예측 AI 경진대회\" data-v-1895150d=\"\" src=\"https://dacon.s3.ap-northeast-2.amazonaws.com/competition/235985/logo_cpt.jpeg\"/></div> <div class=\"desc\" data-v-1895150d=\"\"><p class=\"name ellipsis\" data-v-1895150d=\"\">제주도 도로 교통량 예측 AI 경진대회</p> <p class=\"info2 ellipsis keyword\" data-v-1895150d=\"\"><span data-v-1895150d=\"\">알고리즘 | 정형 | 교통 | 회귀 | MAE</span></p> <div class=\"sponsor\" data-v-1895150d=\"\"><!-- --></div></div> <div class=\"etc\" data-v-1895150d=\"\"><div class=\"dday\" data-v-1895150d=\"\"><img alt=\"participating\" data-v-1895150d=\"\" src=\"/img/participating.jpg\"/>  연습\n",
       "                 </div> <div class=\"joinTeam\" data-v-1895150d=\"\"><!-- -->\n",
       "                   1,434명\n",
       "                 </div> <!-- --></div></a></div>,\n",
       " <div class=\"comp\" data-v-1895150d=\"\"><a class=\"clearfix\" data-v-1895150d=\"\" href=\"/competitions/official/236009/overview/\"><div class=\"pic\" data-v-1895150d=\"\"><img alt=\"대도시권 광역교통 빅데이터 분석 시각화 및 활용 아이디어 경진대회\" data-v-1895150d=\"\" src=\"https://dacon.s3.ap-northeast-2.amazonaws.com/competition/236009/logo_cpt.jpeg\"/></div> <div class=\"desc\" data-v-1895150d=\"\"><p class=\"name ellipsis\" data-v-1895150d=\"\">대도시권 광역교통 빅데이터 분석 시각화 및 활용 아이디어 경진대회</p> <p class=\"info2 ellipsis keyword\" data-v-1895150d=\"\"><span data-v-1895150d=\"\">분석아이디어 | 정형 | 교통 | 정성평가</span></p> <div class=\"sponsor\" data-v-1895150d=\"\"><!-- --></div></div> <div class=\"etc\" data-v-1895150d=\"\"><div class=\"dday\" data-v-1895150d=\"\"><img alt=\"participating\" data-v-1895150d=\"\" src=\"/img/participating.jpg\"/>  연습\n",
       "                 </div> <div class=\"joinTeam\" data-v-1895150d=\"\"><!-- -->\n",
       "                   263명\n",
       "                 </div> <!-- --></div></a></div>,\n",
       " <div class=\"comp\" data-v-1895150d=\"\"><a class=\"clearfix\" data-v-1895150d=\"\" href=\"/competitions/official/236006/overview/\"><div class=\"pic\" data-v-1895150d=\"\"><img alt=\"월간 데이콘 예술 작품 화가 분류 AI 경진대회\" data-v-1895150d=\"\" src=\"https://dacon.s3.ap-northeast-2.amazonaws.com/competition/236006/logo_cpt.jpeg\"/></div> <div class=\"desc\" data-v-1895150d=\"\"><p class=\"name ellipsis\" data-v-1895150d=\"\">월간 데이콘 예술 작품 화가 분류 AI 경진대회</p> <p class=\"info2 ellipsis keyword\" data-v-1895150d=\"\"><span data-v-1895150d=\"\">알고리즘 | 비전 | 분류 | Macro f1 score</span></p> <div class=\"sponsor\" data-v-1895150d=\"\"><!-- --></div></div> <div class=\"etc\" data-v-1895150d=\"\"><div class=\"dday\" data-v-1895150d=\"\"><img alt=\"participating\" data-v-1895150d=\"\" src=\"/img/participating.jpg\"/>  연습\n",
       "                 </div> <div class=\"joinTeam\" data-v-1895150d=\"\"><!-- -->\n",
       "                   475명\n",
       "                 </div> <!-- --></div></a></div>,\n",
       " <div class=\"comp\" data-v-1895150d=\"\"><a class=\"clearfix\" data-v-1895150d=\"\" href=\"/competitions/official/235978/overview/\"><div class=\"pic\" data-v-1895150d=\"\"><img alt=\"2022 관광데이터 AI 경진대회\" data-v-1895150d=\"\" src=\"https://dacon.s3.ap-northeast-2.amazonaws.com/competition/235978/logo_cpt.jpeg\"/></div> <div class=\"desc\" data-v-1895150d=\"\"><p class=\"name ellipsis\" data-v-1895150d=\"\">2022 관광데이터 AI 경진대회</p> <p class=\"info2 ellipsis keyword\" data-v-1895150d=\"\"><span data-v-1895150d=\"\">알고리즘 | 비전 | 언어 | 분류 | Weighted f1 score</span></p> <div class=\"sponsor\" data-v-1895150d=\"\"><!-- --></div></div> <div class=\"etc\" data-v-1895150d=\"\"><div class=\"dday\" data-v-1895150d=\"\"><img alt=\"participating\" data-v-1895150d=\"\" src=\"/img/participating.jpg\"/>  연습\n",
       "                 </div> <div class=\"joinTeam\" data-v-1895150d=\"\"><!-- -->\n",
       "                   1,134명\n",
       "                 </div> <!-- --></div></a></div>,\n",
       " <div class=\"comp\" data-v-1895150d=\"\"><a class=\"clearfix\" data-v-1895150d=\"\" href=\"/competitions/official/235977/overview/\"><div class=\"pic\" data-v-1895150d=\"\"><img alt=\"AI 양재 허브 인공지능 오픈소스 경진대회\" data-v-1895150d=\"\" src=\"https://dacon.s3.ap-northeast-2.amazonaws.com/competition/235977/logo_cpt.jpeg\"/></div> <div class=\"desc\" data-v-1895150d=\"\"><p class=\"name ellipsis\" data-v-1895150d=\"\">AI 양재 허브 인공지능 오픈소스 경진대회</p> <p class=\"info2 ellipsis keyword\" data-v-1895150d=\"\"><span data-v-1895150d=\"\">알고리즘 | 비전 | Image Super-Resolution | PSNR</span></p> <div class=\"sponsor\" data-v-1895150d=\"\"><!-- --></div></div> <div class=\"etc\" data-v-1895150d=\"\"><div class=\"dday\" data-v-1895150d=\"\"><img alt=\"participating\" data-v-1895150d=\"\" src=\"/img/participating.jpg\"/>  연습\n",
       "                 </div> <div class=\"joinTeam\" data-v-1895150d=\"\"><!-- -->\n",
       "                   537명\n",
       "                 </div> <!-- --></div></a></div>,\n",
       " <div class=\"comp\" data-v-1895150d=\"\"><a class=\"clearfix\" data-v-1895150d=\"\" href=\"/competitions/official/235980/overview/\"><div class=\"pic\" data-v-1895150d=\"\"><img alt=\"월간 데이콘 KOSPI 기반 분석 시각화 경진대회\" data-v-1895150d=\"\" src=\"https://dacon.s3.ap-northeast-2.amazonaws.com/competition/235980/logo_cpt.jpeg\"/></div> <div class=\"desc\" data-v-1895150d=\"\"><p class=\"name ellipsis\" data-v-1895150d=\"\">월간 데이콘 KOSPI 기반 분석 시각화 경진대회</p> <p class=\"info2 ellipsis keyword\" data-v-1895150d=\"\"><span data-v-1895150d=\"\">분석시각화 | 정형 | 분석 | 금융 | 정성평가</span></p> <div class=\"sponsor\" data-v-1895150d=\"\"><!-- --></div></div> <div class=\"etc\" data-v-1895150d=\"\"><div class=\"dday\" data-v-1895150d=\"\"><img alt=\"participating\" data-v-1895150d=\"\" src=\"/img/participating.jpg\"/>  연습\n",
       "                 </div> <div class=\"joinTeam\" data-v-1895150d=\"\"><!-- -->\n",
       "                   299명\n",
       "                 </div> <!-- --></div></a></div>,\n",
       " <div class=\"comp\" data-v-1895150d=\"\"><a class=\"clearfix\" data-v-1895150d=\"\" href=\"/competitions/official/235953/overview/\"><div class=\"pic\" data-v-1895150d=\"\"><img alt=\"2022 Samsung AI Challenge (Materials Discovery)\" data-v-1895150d=\"\" src=\"https://dacon.s3.ap-northeast-2.amazonaws.com/competition/235953/logo_cpt.jpeg\"/></div> <div class=\"desc\" data-v-1895150d=\"\"><p class=\"name ellipsis\" data-v-1895150d=\"\">2022 Samsung AI Challenge (Materials Discovery)</p> <p class=\"info2 ellipsis keyword\" data-v-1895150d=\"\"><span data-v-1895150d=\"\">알고리즘 | 정형 | 회귀 | 물성 | RMSE</span></p> <div class=\"sponsor\" data-v-1895150d=\"\"><!-- --></div></div> <div class=\"etc\" data-v-1895150d=\"\"><div class=\"dday\" data-v-1895150d=\"\"><img alt=\"participating\" data-v-1895150d=\"\" src=\"/img/participating.jpg\"/>  연습\n",
       "                 </div> <div class=\"joinTeam\" data-v-1895150d=\"\"><!-- -->\n",
       "                   520명\n",
       "                 </div> <!-- --></div></a></div>,\n",
       " <div class=\"comp\" data-v-1895150d=\"\"><a class=\"clearfix\" data-v-1895150d=\"\" href=\"/competitions/official/235954/overview/\"><div class=\"pic\" data-v-1895150d=\"\"><img alt=\"2022 Samsung AI Challenge (3D Metrology)\" data-v-1895150d=\"\" src=\"https://dacon.s3.ap-northeast-2.amazonaws.com/competition/235954/logo_cpt.jpeg\"/></div> <div class=\"desc\" data-v-1895150d=\"\"><p class=\"name ellipsis\" data-v-1895150d=\"\">2022 Samsung AI Challenge (3D Metrology)</p> <p class=\"info2 ellipsis keyword\" data-v-1895150d=\"\"><span data-v-1895150d=\"\">알고리즘 | CV | 회귀 | SEM | RMSE</span></p> <div class=\"sponsor\" data-v-1895150d=\"\"><!-- --></div></div> <div class=\"etc\" data-v-1895150d=\"\"><div class=\"dday\" data-v-1895150d=\"\"><img alt=\"participating\" data-v-1895150d=\"\" src=\"/img/participating.jpg\"/>  연습\n",
       "                 </div> <div class=\"joinTeam\" data-v-1895150d=\"\"><!-- -->\n",
       "                   598명\n",
       "                 </div> <!-- --></div></a></div>,\n",
       " <div class=\"comp\" data-v-1895150d=\"\"><a class=\"clearfix\" data-v-1895150d=\"\" href=\"/competitions/official/235951/overview/\"><div class=\"pic\" data-v-1895150d=\"\"><img alt=\"월간 데이콘 숫자 3D 이미지 분류 AI 경진대회\" data-v-1895150d=\"\" src=\"https://dacon.s3.ap-northeast-2.amazonaws.com/competition/235951/logo_cpt.jpeg\"/></div> <div class=\"desc\" data-v-1895150d=\"\"><p class=\"name ellipsis\" data-v-1895150d=\"\">월간 데이콘 숫자 3D 이미지 분류 AI 경진대회</p> <p class=\"info2 ellipsis keyword\" data-v-1895150d=\"\"><span data-v-1895150d=\"\">알고리즘 | CV | 분류 | 3D | Accuracy</span></p> <div class=\"sponsor\" data-v-1895150d=\"\"><!-- --></div></div> <div class=\"etc\" data-v-1895150d=\"\"><div class=\"dday\" data-v-1895150d=\"\"><img alt=\"participating\" data-v-1895150d=\"\" src=\"/img/participating.jpg\"/>  연습\n",
       "                 </div> <div class=\"joinTeam\" data-v-1895150d=\"\"><!-- -->\n",
       "                   445명\n",
       "                 </div> <!-- --></div></a></div>]"
      ]
     },
     "execution_count": 4,
     "metadata": {},
     "output_type": "execute_result"
    }
   ],
   "source": [
    "com"
   ]
  },
  {
   "cell_type": "code",
   "execution_count": 64,
   "id": "10e95f50",
   "metadata": {},
   "outputs": [
    {
     "name": "stderr",
     "output_type": "stream",
     "text": [
      "<ipython-input-64-18834a7e31b1>:1: DeprecationWarning: executable_path has been deprecated, please pass in a Service object\n",
      "  browser = webdriver.Chrome('C:/Users/user/chromedriver.exe')\n"
     ]
    },
    {
     "data": {
      "text/plain": [
       "1860.800048828125"
      ]
     },
     "execution_count": 64,
     "metadata": {},
     "output_type": "execute_result"
    }
   ],
   "source": [
    "browser = webdriver.Chrome('C:/Users/user/chromedriver.exe') \n",
    "browser.maximize_window()\n",
    "url = 'https://dacon.io/competitions'\n",
    "browser.get(url)\n",
    "browser.execute_script('window.scrollTo(0,document.body.scrollHeight)')\n",
    "browser.find_element(By.XPATH,'//*[@id=\"main\"]/button/span').click()\n",
    "browser.execute_script(\"return window.pageYOffset\")  #스크롤 좌표"
   ]
  },
  {
   "cell_type": "code",
   "execution_count": 82,
   "id": "53859678",
   "metadata": {},
   "outputs": [
    {
     "name": "stderr",
     "output_type": "stream",
     "text": [
      "<ipython-input-82-7f07a09c78e0>:1: DeprecationWarning: executable_path has been deprecated, please pass in a Service object\n",
      "  browser = webdriver.Chrome('C:/Users/user/chromedriver.exe')\n"
     ]
    },
    {
     "name": "stdout",
     "output_type": "stream",
     "text": [
      "15\n"
     ]
    }
   ],
   "source": [
    "browser = webdriver.Chrome('C:/Users/user/chromedriver.exe') \n",
    "browser.maximize_window()\n",
    "url = 'https://dacon.io/competitions'\n",
    "browser.get(url)\n",
    "\n",
    "interval = 2 #2초에 한번식 스크롤 내림\n",
    "#현재 문서 높이를 가져와서 저장\n",
    "prev_h = browser.execute_script('return document.body.scrollHeight')\n",
    "\n",
    "#반복 수행\n",
    "while True:\n",
    "    #스크롤 아래로 내림\n",
    "    #browser.find_element(By.XPATH,'//*[@id=\"main\"]/button/span').click() \n",
    "    browser.execute_script('window.scrollTo(0,document.body.scrollHeight)') #현재 높이의 가장 아래로 내리기 \n",
    "    time.sleep(interval)\n",
    "    \n",
    "    #현재 문서 높이를 가져와서 다시 저장\n",
    "    curr_h = browser.execute_script('return document.body.scrollHeight')\n",
    "    if curr_h == prev_h:\n",
    "        break\n",
    "    prev_h = curr_h\n",
    "com =  soup.find_all(\"div\", attrs={\"class\":[\"comp\"]})\n",
    "print(len(com))"
   ]
  },
  {
   "cell_type": "code",
   "execution_count": 80,
   "id": "027e38c3",
   "metadata": {},
   "outputs": [
    {
     "name": "stdout",
     "output_type": "stream",
     "text": [
      "15\n"
     ]
    }
   ],
   "source": [
    "com =  soup.find_all(\"div\", attrs={\"class\":[\"comp\"]})\n",
    "print(len(com))"
   ]
  }
 ],
 "metadata": {
  "kernelspec": {
   "display_name": "Python 3",
   "language": "python",
   "name": "python3"
  },
  "language_info": {
   "codemirror_mode": {
    "name": "ipython",
    "version": 3
   },
   "file_extension": ".py",
   "mimetype": "text/x-python",
   "name": "python",
   "nbconvert_exporter": "python",
   "pygments_lexer": "ipython3",
   "version": "3.8.8"
  }
 },
 "nbformat": 4,
 "nbformat_minor": 5
}
