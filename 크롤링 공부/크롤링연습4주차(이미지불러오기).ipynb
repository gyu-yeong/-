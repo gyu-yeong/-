{
 "cells": [
  {
   "cell_type": "code",
   "execution_count": 34,
   "id": "0846bd05",
   "metadata": {},
   "outputs": [],
   "source": [
    "import requests\n",
    "from bs4 import BeautifulSoup\n",
    "\n",
    "res = requests.get(\"https://search.daum.net/search?w=tot&q=2018%EB%85%84%EC%98%81%ED%99%94%EC%88%9C%EC%9C%84&DA=MOR&rtmaxcoll=MOR\")\n",
    "res.raise_for_status()\n",
    "soup = BeautifulSoup(res.text, 'lxml')"
   ]
  },
  {
   "cell_type": "markdown",
   "id": "2422f34f",
   "metadata": {},
   "source": [
    "### 상위 다섯개 영화 포스터 스크래핑\n",
    "\n",
    "#### images = soup.find_all('img', attrs={'class':'thumb_img'})\n",
    "#### 이미지 파일을 찾고 싶은게 핵심. 그렇다면 f12눌러서 이미지가 어떤 element의 어떤 class에 있는 확인하는게 먼저!\n",
    "#### 이후, 이미지만 가져오려면 이미지링크가 어떤 이름으로 되어있는지 확인"
   ]
  },
  {
   "cell_type": "code",
   "execution_count": 38,
   "id": "e1266291",
   "metadata": {},
   "outputs": [
    {
     "data": {
      "text/plain": [
       "[<img alt=\"\" class=\"thumb_img\" height=\"164\" is-person-img=\"false\" src=\"https://search1.kakaocdn.net/thumb/R232x328.q85/?fname=http%3A%2F%2Ft1.daumcdn.net%2Fmovie%2F4e00e81f2b6f4d2eb65b3387240cc3c01547608409838\" width=\"116\"/>,\n",
       " <img alt=\"\" class=\"thumb_img\" height=\"164\" is-person-img=\"false\" src=\"https://search1.kakaocdn.net/thumb/R232x328.q85/?fname=http%3A%2F%2Ft1.daumcdn.net%2Fmovie%2F5574fb2c20c844629aa9ad1d6043ee851555464908641\" width=\"116\"/>,\n",
       " <img alt=\"\" class=\"thumb_img\" height=\"164\" is-person-img=\"false\" src=\"https://search1.kakaocdn.net/thumb/R232x328.q85/?fname=http%3A%2F%2Ft1.daumcdn.net%2Fmovie%2F5afd212b68e34e61a964d969dd898e2f1574298873981\" width=\"116\"/>,\n",
       " <img alt=\"\" class=\"thumb_img\" height=\"164\" is-person-img=\"false\" src=\"https://search1.kakaocdn.net/thumb/R232x328.q85/?fname=http%3A%2F%2Ft1.daumcdn.net%2Fmovie%2F3673a8a0c5ff4f5c8c25cc959fd6985b1558662957684\" width=\"116\"/>,\n",
       " <img alt=\"\" class=\"thumb_img\" height=\"164\" is-person-img=\"false\" src=\"https://search1.kakaocdn.net/thumb/R232x328.q85/?fname=http%3A%2F%2Ft1.daumcdn.net%2Fmovie%2Fcab3b02a7b274bd6838b80a5e481fedf1559021787090\" width=\"116\"/>,\n",
       " <img alt=\"\" class=\"thumb_img\" height=\"164\" is-person-img=\"false\" src=\"https://search1.kakaocdn.net/thumb/R232x328.q85/?fname=http%3A%2F%2Ft1.daumcdn.net%2Fmovie%2F840094b1d3714d98a3f1841cac3b82d81563931141135\" width=\"116\"/>,\n",
       " <img alt=\"\" class=\"thumb_img\" height=\"164\" is-person-img=\"false\" src=\"https://search1.kakaocdn.net/thumb/R232x328.q85/?fname=http%3A%2F%2Ft1.daumcdn.net%2Fmovie%2F984467734d0441d9bd342456607cefe31558926997358\" width=\"116\"/>,\n",
       " <img alt=\"\" class=\"thumb_img\" height=\"164\" is-person-img=\"false\" src=\"https://search1.kakaocdn.net/thumb/R232x328.q85/?fname=http%3A%2F%2Ft1.daumcdn.net%2Fmovie%2Fc8555d7906ba4559a1290c616e416c4c1576742973513\" width=\"116\"/>,\n",
       " <img alt=\"\" class=\"thumb_img\" height=\"164\" is-person-img=\"false\" src=\"https://search1.kakaocdn.net/thumb/R232x328.q85/?fname=http%3A%2F%2Ft1.daumcdn.net%2Fmovie%2F9633f50f32a34df2ae91dbac1203062e1551065947586\" width=\"116\"/>,\n",
       " <img alt=\"\" class=\"thumb_img\" height=\"164\" is-person-img=\"false\" src=\"https://search1.kakaocdn.net/thumb/R232x328.q85/?fname=http%3A%2F%2Ft1.daumcdn.net%2Fmovie%2F0357a82b7226464b87072c0b8d2246b71567986846719\" width=\"116\"/>,\n",
       " <img alt=\"\" class=\"thumb_img\" height=\"164\" is-person-img=\"false\" src=\"https://search1.kakaocdn.net/thumb/R232x328.q85/?fname=http%3A%2F%2Ft1.daumcdn.net%2Fmovie%2Fcc2179cd2bfc46ed84d285086339f2321563514510944\" width=\"116\"/>,\n",
       " <img alt=\"\" class=\"thumb_img\" height=\"164\" is-person-img=\"false\" src=\"https://search1.kakaocdn.net/thumb/R232x328.q85/?fname=http%3A%2F%2Ft1.daumcdn.net%2Fmovie%2F1f887bf800ac4d63be45d94bc9ddeac51563411889783\" width=\"116\"/>,\n",
       " <img alt=\"\" class=\"thumb_img\" height=\"164\" is-person-img=\"false\" src=\"https://search1.kakaocdn.net/thumb/R232x328.q85/?fname=http%3A%2F%2Ft1.daumcdn.net%2Fmovie%2F817749999554400daebc36f51c16b2901565673492583\" width=\"116\"/>,\n",
       " <img alt=\"\" class=\"thumb_img\" height=\"164\" is-person-img=\"false\" src=\"https://search1.kakaocdn.net/thumb/R232x328.q85/?fname=http%3A%2F%2Ft1.daumcdn.net%2Fmovie%2Fcc7165f75bb94140a95d977881cebc191571895256827\" width=\"116\"/>,\n",
       " <img alt=\"\" class=\"thumb_img\" height=\"164\" is-person-img=\"false\" src=\"https://search1.kakaocdn.net/thumb/R232x328.q85/?fname=http%3A%2F%2Ft1.daumcdn.net%2Fmovie%2F68697a4b31e7461b8ffe3211a9cd12b31564105313046\" width=\"116\"/>,\n",
       " <img alt=\"\" class=\"thumb_img\" height=\"164\" is-person-img=\"false\" src=\"https://search1.kakaocdn.net/thumb/R232x328.q85/?fname=http%3A%2F%2Ft1.daumcdn.net%2Fmovie%2Fda2e6f0663514ba3aaf1f003733d08831560262646934\" width=\"116\"/>,\n",
       " <img alt=\"\" class=\"thumb_img\" height=\"164\" is-person-img=\"false\" src=\"https://search1.kakaocdn.net/thumb/R232x328.q85/?fname=http%3A%2F%2Ft1.daumcdn.net%2Fmovie%2Fdca667637a164f01b556a8d6b8277ef41551836200950\" width=\"116\"/>,\n",
       " <img alt=\"\" class=\"thumb_img\" height=\"164\" is-person-img=\"false\" src=\"https://search1.kakaocdn.net/thumb/R232x328.q85/?fname=http%3A%2F%2Ft1.daumcdn.net%2Fmovie%2F27a31d4c5a0540ea86cd0237dccc49d51557888570172\" width=\"116\"/>,\n",
       " <img alt=\"\" class=\"thumb_img\" height=\"164\" is-person-img=\"false\" src=\"https://search1.kakaocdn.net/thumb/R232x328.q85/?fname=http%3A%2F%2Ft1.daumcdn.net%2Fmovie%2F08603eebe4e740e9a19384f0a0f5cfed1568165443925\" width=\"116\"/>,\n",
       " <img alt=\"\" class=\"thumb_img\" height=\"164\" is-person-img=\"false\" src=\"https://search1.kakaocdn.net/thumb/R232x328.q85/?fname=http%3A%2F%2Ft1.daumcdn.net%2Fmovie%2F02efc2364d924115880baf78fd6e9d4a1545286152910\" width=\"116\"/>,\n",
       " <img alt=\"\" class=\"thumb_img\" height=\"164\" is-person-img=\"false\" src=\"https://search1.kakaocdn.net/thumb/R232x328.q85/?fname=http%3A%2F%2Ft1.daumcdn.net%2Fmovie%2F3e6591d23bbc4f8986f4dce958afac4d1551150359176\" width=\"116\"/>,\n",
       " <img alt=\"\" class=\"thumb_img\" height=\"164\" is-person-img=\"false\" src=\"https://search1.kakaocdn.net/thumb/R232x328.q85/?fname=http%3A%2F%2Ft1.daumcdn.net%2Fmovie%2F33f6b51372e94272a2b802d6e1b3cc321576635274939\" width=\"116\"/>,\n",
       " <img alt=\"\" class=\"thumb_img\" height=\"164\" is-person-img=\"false\" src=\"https://search1.kakaocdn.net/thumb/R232x328.q85/?fname=http%3A%2F%2Ft1.daumcdn.net%2Fmovie%2Ffbe0d4ccc4804448a8aacb9e98ccccfe1573614596648\" width=\"116\"/>,\n",
       " <img alt=\"\" class=\"thumb_img\" height=\"164\" is-person-img=\"false\" src=\"https://search1.kakaocdn.net/thumb/R232x328.q85/?fname=http%3A%2F%2Ft1.daumcdn.net%2Fmovie%2F9d20cf3485cc4602ad59e418870dcd291572404771686\" width=\"116\"/>,\n",
       " <img alt=\"\" class=\"thumb_img\" height=\"164\" is-person-img=\"false\" src=\"https://search1.kakaocdn.net/thumb/R232x328.q85/?fname=http%3A%2F%2Ft1.daumcdn.net%2Fmovie%2F400a8860f56e4ce79425c06de79c11001548636701111\" width=\"116\"/>,\n",
       " <img alt=\"\" class=\"thumb_img\" height=\"164\" is-person-img=\"false\" src=\"https://search1.kakaocdn.net/thumb/R232x328.q85/?fname=http%3A%2F%2Ft1.daumcdn.net%2Fmovie%2Fc718986ee7284fe6899244115cdbd0211566460622237\" width=\"116\"/>,\n",
       " <img alt=\"\" class=\"thumb_img\" height=\"164\" is-person-img=\"false\" src=\"https://search1.kakaocdn.net/thumb/R232x328.q85/?fname=http%3A%2F%2Ft1.daumcdn.net%2Fmovie%2F88c944d4893a41f4b9131a53a4320c241572311557066\" width=\"116\"/>,\n",
       " <img alt=\"\" class=\"thumb_img\" height=\"164\" is-person-img=\"false\" src=\"https://search1.kakaocdn.net/thumb/R232x328.q85/?fname=http%3A%2F%2Ft1.daumcdn.net%2Fmovie%2F849edb91f7034d338709526e3647c2dd1548391120712\" width=\"116\"/>,\n",
       " <img alt=\"\" class=\"thumb_img\" height=\"164\" is-person-img=\"false\" src=\"https://search1.kakaocdn.net/thumb/R232x328.q85/?fname=http%3A%2F%2Ft1.daumcdn.net%2Fmovie%2F4295e3725db4457a8c9d810416c7e7741543894164660\" width=\"116\"/>,\n",
       " <img alt=\"\" class=\"thumb_img\" height=\"164\" is-person-img=\"false\" src=\"https://search1.kakaocdn.net/thumb/R232x328.q85/?fname=http%3A%2F%2Ft1.daumcdn.net%2Fmovie%2F492c3cf06c2c46d38eced01e54c6393b1548652221455\" width=\"116\"/>,\n",
       " <img alt=\"유저썸네일\" class=\"thumb_img\" height=\"20\" onerror='this.src=\"https://t1.daumcdn.net/search/fusion/commons/noimg.png\"' src=\"//search1.daumcdn.net/thumb/C28x28/?fname=https%3A%2F%2Ftistory1.daumcdn.net%2Ftistory%2F4659104%2Fattach%2F919d3e395e60494581af7c7320d2c6e9\" width=\"20\"/>,\n",
       " <img alt=\"썸네일\" class=\"thumb_img\" height=\"80\" onerror=\"SF.errorImg(this)\" src=\"//search1.daumcdn.net/thumb/S232x160/?fname=http%3A%2F%2Fsearch3.kakaocdn.net%2Fargon%2F656x0_80_wr%2FC2dxlN7YwkK\" width=\"116\"/>,\n",
       " <img alt=\"유저썸네일\" class=\"thumb_img\" height=\"20\" onerror='this.src=\"https://t1.daumcdn.net/search/fusion/commons/noimg.png\"' src=\"//search1.daumcdn.net/thumb/C28x28/?fname=https%3A%2F%2Fblogpfthumb-phinf.pstatic.net%2FMjAyMjA4MzFfMTMw%2FMDAxNjYxOTI4ODI1MDc4.naFuzIKiexKnxOCBFrtPJjQvusrw2cAJGuNFYHEieU4g.p8Edi2ivVL9kTf52LogjKq14kOZd58uwhWnDhWip8Zcg.JPEG.i-83-love%2FKakaoTalk_20220829_082549653_28.jpg%2FKakaoTalk_20220829_082549653_28.jpg\" width=\"20\"/>,\n",
       " <img alt=\"썸네일\" class=\"thumb_img\" height=\"80\" onerror=\"SF.errorImg(this)\" src=\"//search1.daumcdn.net/thumb/S232x160/?fname=http%3A%2F%2Fsearch3.kakaocdn.net%2Fargon%2F656x0_80_wr%2F7XSgfxPqNMd\" width=\"116\"/>,\n",
       " <img alt=\"유저썸네일\" class=\"thumb_img\" height=\"20\" onerror='this.src=\"https://t1.daumcdn.net/search/fusion/commons/noimg.png\"' src=\"//t1.daumcdn.net/search/fusion/commons/noimg.png\" width=\"20\"/>,\n",
       " <img alt=\"썸네일\" class=\"thumb_img\" height=\"80\" onerror=\"SF.errorImg(this)\" src=\"//search1.daumcdn.net/thumb/S232x160/?fname=http%3A%2F%2Fsearch1.kakaocdn.net%2Fargon%2F656x0_80_wr%2F6Z39XXScwpA\" width=\"116\"/>,\n",
       " <img alt=\"유저썸네일\" class=\"thumb_img\" height=\"20\" onerror='this.src=\"https://t1.daumcdn.net/search/fusion/commons/noimg.png\"' src=\"//search1.daumcdn.net/thumb/C28x28/?fname=https%3A%2F%2Ft1.daumcdn.net%2Fcafeattach%2FEK%2F570a76d28dcf726aa03f90dc4dae65fcece2ba9f\" width=\"20\"/>,\n",
       " <img alt=\"썸네일\" class=\"thumb_img\" height=\"80\" onerror=\"SF.errorImg(this)\" src=\"//search1.daumcdn.net/thumb/S232x160/?fname=http%3A%2F%2Fsearch2.kakaocdn.net%2Fargon%2F656x0_80_wr%2FFDDVCSnpgGU\" width=\"116\"/>,\n",
       " <img alt=\"유저썸네일\" class=\"thumb_img\" height=\"20\" onerror='this.src=\"https://t1.daumcdn.net/search/fusion/commons/noimg.png\"' src=\"//search1.daumcdn.net/thumb/C28x28/?fname=http%3A%2F%2Fcfile255.uf.daum.net%2Fimage%2F22745D4357FC5F621B2D34\" width=\"20\"/>,\n",
       " <img alt=\"썸네일\" class=\"thumb_img\" height=\"80\" onerror=\"SF.errorImg(this)\" src=\"//search1.daumcdn.net/thumb/S232x160/?fname=http%3A%2F%2Fsearch4.kakaocdn.net%2Fargon%2F656x0_80_wr%2FE1hFoyZECkz\" width=\"116\"/>,\n",
       " <img alt=\"유저썸네일\" class=\"thumb_img\" height=\"20\" onerror='this.src=\"https://t1.daumcdn.net/search/fusion/commons/noimg.png\"' src=\"//search1.daumcdn.net/thumb/C28x28/?fname=https%3A%2F%2Ft1.daumcdn.net%2Ftistory_admin%2Fstatic%2Fmanage%2Fimages%2Fr3%2Fdefault_L.png\" width=\"20\"/>,\n",
       " <img alt=\"썸네일\" class=\"thumb_img\" height=\"80\" onerror=\"SF.errorImg(this)\" src=\"//search1.daumcdn.net/thumb/S232x160/?fname=http%3A%2F%2Fsearch1.kakaocdn.net%2Fargon%2F656x0_80_wr%2F4XsnaXoP2vh\" width=\"116\"/>,\n",
       " <img alt=\"유저썸네일\" class=\"thumb_img\" height=\"20\" onerror='this.src=\"https://t1.daumcdn.net/search/fusion/commons/noimg.png\"' src=\"//search1.daumcdn.net/thumb/C28x28/?fname=http%3A%2F%2Ft1.daumcdn.net%2Fcafeattach%2F1WjuI%2F61809c58c41276e94dc7ce8ce8b2e223b7fb8391\" width=\"20\"/>,\n",
       " <img alt=\"유저썸네일\" class=\"thumb_img\" height=\"20\" onerror='this.src=\"https://t1.daumcdn.net/search/fusion/commons/noimg.png\"' src=\"//t1.daumcdn.net/web_favicon/0/c/0cb41e7bcf3921570c57c02620c8e4d7.ico?type=thumb&amp;opt=R24x24\" width=\"20\"/>,\n",
       " <img alt=\"\" class=\"thumb_img\" data-size=\"146x83\" height=\"83\" onerror=\"SF.errorImage(this)\" src=\"https://search1.kakaocdn.net/argon/229x128_80_pr/HT5bP8zAc3p\" width=\"146\"/>,\n",
       " <img alt=\"\" class=\"thumb_img\" data-size=\"146x83\" height=\"83\" onerror=\"SF.errorImage(this)\" src=\"https://search1.kakaocdn.net/argon/229x128_80_pr/1AeB7zw8T3o\" width=\"146\"/>,\n",
       " <img alt=\"\" class=\"thumb_img\" data-size=\"146x83\" height=\"83\" onerror=\"SF.errorImage(this)\" src=\"https://search3.kakaocdn.net/argon/229x128_80_pr/9YZROLusgLj\" width=\"146\"/>,\n",
       " <img alt=\"\" class=\"thumb_img\" data-size=\"146x83\" height=\"83\" onerror=\"SF.errorImage(this)\" src=\"https://search4.kakaocdn.net/argon/229x128_80_pr/8eiJdOoisZp\" width=\"146\"/>,\n",
       " <img alt=\"\" class=\"thumb_img\" data-size=\"146x83\" height=\"83\" onerror=\"SF.errorImage(this)\" src=\"https://search3.kakaocdn.net/argon/229x128_80_pr/8G3Rr93l7wn\" width=\"146\"/>,\n",
       " <img alt=\"\" class=\"thumb_img\" height=\"116\" onerror=\"jQuery(this).parent().parent().hide();\" onload=\"jQuery(this).css('background-image','');\" src=\"https://search2.daumcdn.net/thumb/C116x116.fjpg/?fname=http%3A%2F%2Ft1.daumcdn.net%2Fbrunch%2Fservice%2Fuser%2F3RiD%2Fimage%2FTnZYRumwTj_x7YbMuvLr-LwuuN8.jpg\" style=\"background-image:url('https://search1.daumcdn.net/thumb/R116x116.q85/?fname=http%3A%2F%2Fsearch1.daumcdn.net%2Fsearch%2Fstatics%2Fcommon%2Fpi%2Fbrc_loading_170914.png')\" width=\"116\"/>,\n",
       " <img alt=\"\" class=\"thumb_img\" height=\"116\" onerror=\"jQuery(this).parent().parent().hide();\" onload=\"jQuery(this).css('background-image','');\" src=\"https://search3.daumcdn.net/thumb/C116x116.fjpg/?fname=http%3A%2F%2Ft1.daumcdn.net%2Fbrunch%2Fservice%2Fuser%2FoNv%2Fimage%2FBVjSVpIjRzq4QSZsObEXBu4h1eo.jfif\" style=\"background-image:url('https://search1.daumcdn.net/thumb/R116x116.q85/?fname=http%3A%2F%2Fsearch1.daumcdn.net%2Fsearch%2Fstatics%2Fcommon%2Fpi%2Fbrc_loading_170914.png')\" width=\"116\"/>,\n",
       " <img alt=\"\" class=\"thumb_img\" data-size=\"130x130\" height=\"130\" onerror=\"SF.errorImage(this)\" src=\"https://search2.daumcdn.net/thumb/R152x152/?fname=http%3A//shop2.daumcdn.net/shophow/p/J6430926824.jpg%3Fut%3D20190329200942\" width=\"130\"/>,\n",
       " <img alt=\"\" class=\"thumb_img\" data-size=\"130x130\" height=\"130\" onerror=\"SF.errorImage(this)\" src=\"https://search1.daumcdn.net/thumb/R152x152/?fname=http%3A//shop1.daumcdn.net/shophow/p/M15423547148.jpg%3Fut%3D20211116224548\" width=\"130\"/>,\n",
       " <img alt=\"\" class=\"thumb_img\" data-size=\"130x130\" height=\"130\" onerror=\"SF.errorImage(this)\" src=\"https://search2.daumcdn.net/thumb/R152x152/?fname=http%3A//shop1.daumcdn.net/shophow/p/U13305218790.jpg%3Fut%3D20210521204100\" width=\"130\"/>,\n",
       " <img alt=\"\" class=\"thumb_img\" data-size=\"130x130\" height=\"130\" onerror=\"SF.errorImage(this)\" src=\"https://search2.daumcdn.net/thumb/R152x152/?fname=http%3A//shop1.daumcdn.net/shophow/p/T19274432407.jpg%3Fut%3D20220927144625\" width=\"130\"/>,\n",
       " <img alt=\"\" class=\"thumb_img\" data-size=\"80x80\" height=\"80\" onerror=\"SF.errorImage(this)\" src=\"https://search1.kakaocdn.net/argon/130x130_80_c/CQUHRk5ff92\" width=\"80\"/>]"
      ]
     },
     "execution_count": 38,
     "metadata": {},
     "output_type": "execute_result"
    }
   ],
   "source": [
    "images = soup.find_all('img', attrs={'class':'thumb_img'})\n",
    "images"
   ]
  },
  {
   "cell_type": "code",
   "execution_count": 41,
   "id": "2ef8ba9f",
   "metadata": {},
   "outputs": [
    {
     "name": "stdout",
     "output_type": "stream",
     "text": [
      "https://search1.kakaocdn.net/thumb/R232x328.q85/?fname=http%3A%2F%2Ft1.daumcdn.net%2Fmovie%2F4e00e81f2b6f4d2eb65b3387240cc3c01547608409838\n",
      "https://search1.kakaocdn.net/thumb/R232x328.q85/?fname=http%3A%2F%2Ft1.daumcdn.net%2Fmovie%2F5574fb2c20c844629aa9ad1d6043ee851555464908641\n",
      "https://search1.kakaocdn.net/thumb/R232x328.q85/?fname=http%3A%2F%2Ft1.daumcdn.net%2Fmovie%2F5afd212b68e34e61a964d969dd898e2f1574298873981\n",
      "https://search1.kakaocdn.net/thumb/R232x328.q85/?fname=http%3A%2F%2Ft1.daumcdn.net%2Fmovie%2F3673a8a0c5ff4f5c8c25cc959fd6985b1558662957684\n",
      "https://search1.kakaocdn.net/thumb/R232x328.q85/?fname=http%3A%2F%2Ft1.daumcdn.net%2Fmovie%2Fcab3b02a7b274bd6838b80a5e481fedf1559021787090\n",
      "https://search1.kakaocdn.net/thumb/R232x328.q85/?fname=http%3A%2F%2Ft1.daumcdn.net%2Fmovie%2F840094b1d3714d98a3f1841cac3b82d81563931141135\n",
      "https://search1.kakaocdn.net/thumb/R232x328.q85/?fname=http%3A%2F%2Ft1.daumcdn.net%2Fmovie%2F984467734d0441d9bd342456607cefe31558926997358\n",
      "https://search1.kakaocdn.net/thumb/R232x328.q85/?fname=http%3A%2F%2Ft1.daumcdn.net%2Fmovie%2Fc8555d7906ba4559a1290c616e416c4c1576742973513\n",
      "https://search1.kakaocdn.net/thumb/R232x328.q85/?fname=http%3A%2F%2Ft1.daumcdn.net%2Fmovie%2F9633f50f32a34df2ae91dbac1203062e1551065947586\n",
      "https://search1.kakaocdn.net/thumb/R232x328.q85/?fname=http%3A%2F%2Ft1.daumcdn.net%2Fmovie%2F0357a82b7226464b87072c0b8d2246b71567986846719\n",
      "https://search1.kakaocdn.net/thumb/R232x328.q85/?fname=http%3A%2F%2Ft1.daumcdn.net%2Fmovie%2Fcc2179cd2bfc46ed84d285086339f2321563514510944\n",
      "https://search1.kakaocdn.net/thumb/R232x328.q85/?fname=http%3A%2F%2Ft1.daumcdn.net%2Fmovie%2F1f887bf800ac4d63be45d94bc9ddeac51563411889783\n",
      "https://search1.kakaocdn.net/thumb/R232x328.q85/?fname=http%3A%2F%2Ft1.daumcdn.net%2Fmovie%2F817749999554400daebc36f51c16b2901565673492583\n",
      "https://search1.kakaocdn.net/thumb/R232x328.q85/?fname=http%3A%2F%2Ft1.daumcdn.net%2Fmovie%2Fcc7165f75bb94140a95d977881cebc191571895256827\n",
      "https://search1.kakaocdn.net/thumb/R232x328.q85/?fname=http%3A%2F%2Ft1.daumcdn.net%2Fmovie%2F68697a4b31e7461b8ffe3211a9cd12b31564105313046\n",
      "https://search1.kakaocdn.net/thumb/R232x328.q85/?fname=http%3A%2F%2Ft1.daumcdn.net%2Fmovie%2Fda2e6f0663514ba3aaf1f003733d08831560262646934\n",
      "https://search1.kakaocdn.net/thumb/R232x328.q85/?fname=http%3A%2F%2Ft1.daumcdn.net%2Fmovie%2Fdca667637a164f01b556a8d6b8277ef41551836200950\n",
      "https://search1.kakaocdn.net/thumb/R232x328.q85/?fname=http%3A%2F%2Ft1.daumcdn.net%2Fmovie%2F27a31d4c5a0540ea86cd0237dccc49d51557888570172\n",
      "https://search1.kakaocdn.net/thumb/R232x328.q85/?fname=http%3A%2F%2Ft1.daumcdn.net%2Fmovie%2F08603eebe4e740e9a19384f0a0f5cfed1568165443925\n",
      "https://search1.kakaocdn.net/thumb/R232x328.q85/?fname=http%3A%2F%2Ft1.daumcdn.net%2Fmovie%2F02efc2364d924115880baf78fd6e9d4a1545286152910\n",
      "https://search1.kakaocdn.net/thumb/R232x328.q85/?fname=http%3A%2F%2Ft1.daumcdn.net%2Fmovie%2F3e6591d23bbc4f8986f4dce958afac4d1551150359176\n",
      "https://search1.kakaocdn.net/thumb/R232x328.q85/?fname=http%3A%2F%2Ft1.daumcdn.net%2Fmovie%2F33f6b51372e94272a2b802d6e1b3cc321576635274939\n",
      "https://search1.kakaocdn.net/thumb/R232x328.q85/?fname=http%3A%2F%2Ft1.daumcdn.net%2Fmovie%2Ffbe0d4ccc4804448a8aacb9e98ccccfe1573614596648\n",
      "https://search1.kakaocdn.net/thumb/R232x328.q85/?fname=http%3A%2F%2Ft1.daumcdn.net%2Fmovie%2F9d20cf3485cc4602ad59e418870dcd291572404771686\n",
      "https://search1.kakaocdn.net/thumb/R232x328.q85/?fname=http%3A%2F%2Ft1.daumcdn.net%2Fmovie%2F400a8860f56e4ce79425c06de79c11001548636701111\n",
      "https://search1.kakaocdn.net/thumb/R232x328.q85/?fname=http%3A%2F%2Ft1.daumcdn.net%2Fmovie%2Fc718986ee7284fe6899244115cdbd0211566460622237\n",
      "https://search1.kakaocdn.net/thumb/R232x328.q85/?fname=http%3A%2F%2Ft1.daumcdn.net%2Fmovie%2F88c944d4893a41f4b9131a53a4320c241572311557066\n",
      "https://search1.kakaocdn.net/thumb/R232x328.q85/?fname=http%3A%2F%2Ft1.daumcdn.net%2Fmovie%2F849edb91f7034d338709526e3647c2dd1548391120712\n",
      "https://search1.kakaocdn.net/thumb/R232x328.q85/?fname=http%3A%2F%2Ft1.daumcdn.net%2Fmovie%2F4295e3725db4457a8c9d810416c7e7741543894164660\n",
      "https://search1.kakaocdn.net/thumb/R232x328.q85/?fname=http%3A%2F%2Ft1.daumcdn.net%2Fmovie%2F492c3cf06c2c46d38eced01e54c6393b1548652221455\n",
      "//search1.daumcdn.net/thumb/C28x28/?fname=https%3A%2F%2Ftistory1.daumcdn.net%2Ftistory%2F4659104%2Fattach%2F919d3e395e60494581af7c7320d2c6e9\n",
      "//search1.daumcdn.net/thumb/S232x160/?fname=http%3A%2F%2Fsearch3.kakaocdn.net%2Fargon%2F656x0_80_wr%2FC2dxlN7YwkK\n",
      "//search1.daumcdn.net/thumb/C28x28/?fname=https%3A%2F%2Fblogpfthumb-phinf.pstatic.net%2FMjAyMjA4MzFfMTMw%2FMDAxNjYxOTI4ODI1MDc4.naFuzIKiexKnxOCBFrtPJjQvusrw2cAJGuNFYHEieU4g.p8Edi2ivVL9kTf52LogjKq14kOZd58uwhWnDhWip8Zcg.JPEG.i-83-love%2FKakaoTalk_20220829_082549653_28.jpg%2FKakaoTalk_20220829_082549653_28.jpg\n",
      "//search1.daumcdn.net/thumb/S232x160/?fname=http%3A%2F%2Fsearch3.kakaocdn.net%2Fargon%2F656x0_80_wr%2F7XSgfxPqNMd\n",
      "//t1.daumcdn.net/search/fusion/commons/noimg.png\n",
      "//search1.daumcdn.net/thumb/S232x160/?fname=http%3A%2F%2Fsearch1.kakaocdn.net%2Fargon%2F656x0_80_wr%2F6Z39XXScwpA\n",
      "//search1.daumcdn.net/thumb/C28x28/?fname=https%3A%2F%2Ft1.daumcdn.net%2Fcafeattach%2FEK%2F570a76d28dcf726aa03f90dc4dae65fcece2ba9f\n",
      "//search1.daumcdn.net/thumb/S232x160/?fname=http%3A%2F%2Fsearch2.kakaocdn.net%2Fargon%2F656x0_80_wr%2FFDDVCSnpgGU\n",
      "//search1.daumcdn.net/thumb/C28x28/?fname=http%3A%2F%2Fcfile255.uf.daum.net%2Fimage%2F22745D4357FC5F621B2D34\n",
      "//search1.daumcdn.net/thumb/S232x160/?fname=http%3A%2F%2Fsearch4.kakaocdn.net%2Fargon%2F656x0_80_wr%2FE1hFoyZECkz\n",
      "//search1.daumcdn.net/thumb/C28x28/?fname=https%3A%2F%2Ft1.daumcdn.net%2Ftistory_admin%2Fstatic%2Fmanage%2Fimages%2Fr3%2Fdefault_L.png\n",
      "//search1.daumcdn.net/thumb/S232x160/?fname=http%3A%2F%2Fsearch1.kakaocdn.net%2Fargon%2F656x0_80_wr%2F4XsnaXoP2vh\n",
      "//search1.daumcdn.net/thumb/C28x28/?fname=http%3A%2F%2Ft1.daumcdn.net%2Fcafeattach%2F1WjuI%2F61809c58c41276e94dc7ce8ce8b2e223b7fb8391\n",
      "//t1.daumcdn.net/web_favicon/0/c/0cb41e7bcf3921570c57c02620c8e4d7.ico?type=thumb&opt=R24x24\n",
      "https://search1.kakaocdn.net/argon/229x128_80_pr/HT5bP8zAc3p\n",
      "https://search1.kakaocdn.net/argon/229x128_80_pr/1AeB7zw8T3o\n",
      "https://search3.kakaocdn.net/argon/229x128_80_pr/9YZROLusgLj\n",
      "https://search4.kakaocdn.net/argon/229x128_80_pr/8eiJdOoisZp\n",
      "https://search3.kakaocdn.net/argon/229x128_80_pr/8G3Rr93l7wn\n",
      "https://search2.daumcdn.net/thumb/C116x116.fjpg/?fname=http%3A%2F%2Ft1.daumcdn.net%2Fbrunch%2Fservice%2Fuser%2F3RiD%2Fimage%2FTnZYRumwTj_x7YbMuvLr-LwuuN8.jpg\n",
      "https://search3.daumcdn.net/thumb/C116x116.fjpg/?fname=http%3A%2F%2Ft1.daumcdn.net%2Fbrunch%2Fservice%2Fuser%2FoNv%2Fimage%2FBVjSVpIjRzq4QSZsObEXBu4h1eo.jfif\n",
      "https://search2.daumcdn.net/thumb/R152x152/?fname=http%3A//shop2.daumcdn.net/shophow/p/J6430926824.jpg%3Fut%3D20190329200942\n",
      "https://search1.daumcdn.net/thumb/R152x152/?fname=http%3A//shop1.daumcdn.net/shophow/p/M15423547148.jpg%3Fut%3D20211116224548\n",
      "https://search2.daumcdn.net/thumb/R152x152/?fname=http%3A//shop1.daumcdn.net/shophow/p/U13305218790.jpg%3Fut%3D20210521204100\n",
      "https://search2.daumcdn.net/thumb/R152x152/?fname=http%3A//shop1.daumcdn.net/shophow/p/T19274432407.jpg%3Fut%3D20220927144625\n",
      "https://search1.kakaocdn.net/argon/130x130_80_c/CQUHRk5ff92\n"
     ]
    }
   ],
   "source": [
    "for i in images:\n",
    "    image_url = i['src']\n",
    "    print(image_url)"
   ]
  },
  {
   "cell_type": "code",
   "execution_count": 29,
   "id": "1011a109",
   "metadata": {},
   "outputs": [
    {
     "name": "stdout",
     "output_type": "stream",
     "text": [
      "https://search1.kakaocdn.net/thumb/R232x328.q85/?fname=https%3A%2F%2Ft1.daumcdn.net%2Fmovie%2F49d2e3870f67e47645b13976a176056ed71af64c\n",
      "https://search1.kakaocdn.net/thumb/R232x328.q85/?fname=http%3A%2F%2Ft1.daumcdn.net%2Fmovie%2Fdd84b905224c91225aa2a15203aba3a354197c1d\n",
      "https://search1.kakaocdn.net/thumb/R232x328.q85/?fname=http%3A%2F%2Ft1.daumcdn.net%2Fmovie%2Fce3cd6a875284e8b96414ef3696756a11544772388211\n",
      "https://search1.kakaocdn.net/thumb/R232x328.q85/?fname=http%3A%2F%2Ft1.daumcdn.net%2Fmovie%2F3ed58c2c1114935c4cc95f09949acb49b5996fa9\n",
      "https://search1.kakaocdn.net/thumb/R232x328.q85/?fname=https%3A%2F%2Ft1.daumcdn.net%2Fmovie%2Fae457b72c9a9ec2c8d2f44a893098ec060f0e598\n"
     ]
    }
   ],
   "source": [
    "images = soup.find_all('img', attrs={'class':'thumb_img'})\n",
    "\n",
    "for idx, i in enumerate(images):\n",
    "    image_url = i['src']\n",
    "    if image_url.startswith('//'): #image_url이 //으로 시작한다면~\n",
    "        image_url = 'https:' + image_url\n",
    "    \n",
    "    print(image_url)\n",
    "    image_res = requests.get(image_url)\n",
    "    image_res.raise_for_status()\n",
    "\n",
    "    with open('movie_{}_{}.jpg'.format(year,idx+1), 'wb') as f: #jpg 파일로 저장 \n",
    "        f.write(image_res.content)           #wb가 무슨 의미일까?\n",
    "    \n",
    "    if idx >= 4: #상위 다섯개 이미지만 다운로드함\n",
    "        break"
   ]
  },
  {
   "cell_type": "markdown",
   "id": "75c3a1e3",
   "metadata": {},
   "source": [
    "### imeage 태그이고 클래스가 thumb_img인 것"
   ]
  },
  {
   "cell_type": "code",
   "execution_count": 37,
   "id": "2bec9baa",
   "metadata": {},
   "outputs": [
    {
     "name": "stdout",
     "output_type": "stream",
     "text": [
      "https://search1.kakaocdn.net/thumb/R232x328.q85/?fname=http%3A%2F%2Ft1.daumcdn.net%2Fmovie%2Fc98cf3e74671b88df0f2b31b516c0aaea2e1a816\n",
      "https://search1.kakaocdn.net/thumb/R232x328.q85/?fname=https%3A%2F%2Ft1.daumcdn.net%2Fmovie%2Fae457b72c9a9ec2c8d2f44a893098ec060f0e598\n",
      "https://search1.kakaocdn.net/thumb/R232x328.q85/?fname=http%3A%2F%2Ft1.daumcdn.net%2Fmovie%2F404a1310e7b23f39d1472c9a41ac69054753f1dc\n",
      "https://search1.kakaocdn.net/thumb/R232x328.q85/?fname=http%3A%2F%2Ft1.daumcdn.net%2Fmovie%2F4f9750f09dac0f1b3659ae03cfe9ed7938be8d30\n",
      "https://search1.kakaocdn.net/thumb/R232x328.q85/?fname=http%3A%2F%2Ft1.daumcdn.net%2Fmovie%2F3620db5faa3faa25e8e48d0e7d2c7601f73277ea\n",
      "https://search1.kakaocdn.net/thumb/R232x328.q85/?fname=https%3A%2F%2Ft1.daumcdn.net%2Fmovie%2F49d2e3870f67e47645b13976a176056ed71af64c\n",
      "https://search1.kakaocdn.net/thumb/R232x328.q85/?fname=http%3A%2F%2Ft1.daumcdn.net%2Fmovie%2Fdd84b905224c91225aa2a15203aba3a354197c1d\n",
      "https://search1.kakaocdn.net/thumb/R232x328.q85/?fname=http%3A%2F%2Ft1.daumcdn.net%2Fmovie%2Fce3cd6a875284e8b96414ef3696756a11544772388211\n",
      "https://search1.kakaocdn.net/thumb/R232x328.q85/?fname=http%3A%2F%2Ft1.daumcdn.net%2Fmovie%2F3ed58c2c1114935c4cc95f09949acb49b5996fa9\n",
      "https://search1.kakaocdn.net/thumb/R232x328.q85/?fname=https%3A%2F%2Ft1.daumcdn.net%2Fmovie%2Fae457b72c9a9ec2c8d2f44a893098ec060f0e598\n",
      "https://search1.kakaocdn.net/thumb/R232x328.q85/?fname=http%3A%2F%2Ft1.daumcdn.net%2Fmovie%2F4e00e81f2b6f4d2eb65b3387240cc3c01547608409838\n",
      "https://search1.kakaocdn.net/thumb/R232x328.q85/?fname=http%3A%2F%2Ft1.daumcdn.net%2Fmovie%2F5574fb2c20c844629aa9ad1d6043ee851555464908641\n",
      "https://search1.kakaocdn.net/thumb/R232x328.q85/?fname=http%3A%2F%2Ft1.daumcdn.net%2Fmovie%2F5afd212b68e34e61a964d969dd898e2f1574298873981\n",
      "https://search1.kakaocdn.net/thumb/R232x328.q85/?fname=http%3A%2F%2Ft1.daumcdn.net%2Fmovie%2F3673a8a0c5ff4f5c8c25cc959fd6985b1558662957684\n",
      "https://search1.kakaocdn.net/thumb/R232x328.q85/?fname=http%3A%2F%2Ft1.daumcdn.net%2Fmovie%2Fcab3b02a7b274bd6838b80a5e481fedf1559021787090\n"
     ]
    }
   ],
   "source": [
    "for year in range(2017,2020):\n",
    "    url = \"https://search.daum.net/search?w=tot&q={}%EB%85%84%EC%98%81%ED%99%94%EC%88%9C%EC%9C%84&DA=MOR&rtmaxcoll=MOR\".format(year)\n",
    "    res = requests.get(url)\n",
    "    res.raise_for_status()\n",
    "    soup = BeautifulSoup(res.text, 'lxml')\n",
    "    \n",
    "    images = soup.find_all('img', attrs={'class':'thumb_img'})\n",
    "    \n",
    "    for idx, i in enumerate(images):\n",
    "        image_url = i['src']\n",
    "        if image_url.startswith('//'): #image_url이 //으로 시작한다면~\n",
    "            image_url = 'https:' + image_url\n",
    "\n",
    "        print(image_url)\n",
    "        image_res = requests.get(image_url)\n",
    "        image_res.raise_for_status()\n",
    "\n",
    "        with open('movie_{}_{}.jpg'.format(year,idx+1), 'wb') as f: #jpg 파일로 저장 \n",
    "            f.write(image_res.content)           #wb가 무슨 의미일까?\n",
    "\n",
    "        if idx >= 4: #상위 다섯개 이미지만 다운로드함\n",
    "            break"
   ]
  },
  {
   "cell_type": "markdown",
   "id": "cffd7574",
   "metadata": {},
   "source": [
    "### wb의 의미는 무엇일까? \n",
    "#### w는 쓰기 모드 + b는 바이너리 모드로 데이터 단위 기록\n",
    "\n",
    "### 파일 모드 종류\n",
    "\n",
    "#### r - 읽기모드 (디폴트)\n",
    "\n",
    "#### w - 쓰기모드, 파일이 있으면 모든 내용을 삭제\n",
    "\n",
    "#### x - 쓰기모드, 파일이 있으면 오류 발생\n",
    "\n",
    "#### a - 쓰기모드, 파일이 있으면 뒤에 내용을 추가\n",
    "\n",
    "#### + - 읽기쓰기모드\n",
    "\n",
    "#### t - 텍스트 모드, 텍스트 문자 기록에 사용 (디폴트)\n",
    "\n",
    "#### b - 바이너리 모드, 바이트단위 데이터 기록에 사용\n",
    "\n",
    "\n",
    "\n",
    "#### 파일 모드 사용예\n",
    "\n",
    "#### f = open('file.txt', 'rt')\n",
    "\n",
    "#### 기본값으로 텍스트 읽기모드 (rt는 생략 가능)\n",
    "\n",
    "#### f = open('file.txt', 'wb')\n",
    "\n",
    "#### 바이너리 쓰기모드"
   ]
  },
  {
   "cell_type": "code",
   "execution_count": 36,
   "id": "1c2b2e89",
   "metadata": {},
   "outputs": [
    {
     "name": "stdout",
     "output_type": "stream",
     "text": [
      "https://search2.daumcdn.net/thumb/R152x152/?fname=http%3A//shop2.daumcdn.net/shophow/p/D5092462328.jpg%3Fut%3D20221021013506\n"
     ]
    }
   ],
   "source": [
    "for year in range(2015, 2020):\n",
    "    url = \"https://search.daum.net/search?w=tot&q={}%EB%85%84%EC%98%81%ED%99%94%EC%88%9C%EC%9C%84&DA=MOR&rtmaxcoll=MOR\".format(year)\n",
    "    res = requests.get(url) #주소에 2019,2020숫자가 들어갈 부분에 year 넣기 \n",
    "    res.raise_for_status()\n",
    "    soup = BeautifulSoup(res.text, 'lxml')\n",
    "    \n",
    "    images = soup.find_all('img', attrs={'class':'thumb_img'}) #img 요소를 가져옴\n",
    "\n",
    "    for idx, i in enumerate(images): #상위 다섯개까지의 영화 포스터만 가져옴 \n",
    "        image_url = i['src']\n",
    "        if image_url.startswith('//'): #image_url이 //으로 시작한다면~\n",
    "            image_url = 'https:' + image_url\n",
    "            \n",
    "    print(image_url)\n",
    "    image_res = requests.get(image_url)\n",
    "    image_res.raise_for_status()\n",
    "    \n",
    "    with open('movie_{}_{}.jpg'.format(year,idx+1), 'wb') as f: #jpg파일로 저장\n",
    "        f.write(image_res.content) #content 정보가 이미지임 \n",
    "    \n",
    "    if idx >= 4: #상위 다섯개 이미지만 다운로드함\n",
    "        break"
   ]
  },
  {
   "cell_type": "code",
   "execution_count": null,
   "id": "2bc1b04b",
   "metadata": {},
   "outputs": [],
   "source": []
  }
 ],
 "metadata": {
  "kernelspec": {
   "display_name": "Python 3",
   "language": "python",
   "name": "python3"
  },
  "language_info": {
   "codemirror_mode": {
    "name": "ipython",
    "version": 3
   },
   "file_extension": ".py",
   "mimetype": "text/x-python",
   "name": "python",
   "nbconvert_exporter": "python",
   "pygments_lexer": "ipython3",
   "version": "3.8.8"
  }
 },
 "nbformat": 4,
 "nbformat_minor": 5
}
