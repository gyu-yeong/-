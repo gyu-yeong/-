{
 "cells": [
  {
   "cell_type": "markdown",
   "metadata": {},
   "source": [
    "### 1. 자동 로그인 방법\n",
    "- find_element문은 로봇으로 들키기 쉬움\n",
    "- 자바스크립트 언어로 아이디, 비번 입력 하는 방법 사용"
   ]
  },
  {
   "cell_type": "code",
   "execution_count": 1,
   "metadata": {},
   "outputs": [],
   "source": [
    "from selenium import webdriver\n",
    "from selenium.webdriver.chrome.service import Service\n",
    "from selenium.webdriver.chrome.options import Options\n",
    "from selenium.webdriver.common.by import By\n",
    "from selenium.webdriver.common.keys import Keys\n",
    "from webdriver_manager.chrome import ChromeDriverManager"
   ]
  },
  {
   "cell_type": "code",
   "execution_count": null,
   "metadata": {},
   "outputs": [],
   "source": [
    "customService = Service(ChromeDriverManager().install())\n",
    "customOption = Options()\n",
    "browser = webdriver.Chrome(service = customService, options = customOption)\n",
    "\n",
    "URL = 'https://nid.naver.com/nidlogin.login?mode=form&url=https://www.naver.com/'\n",
    "browser.get(URL)\n",
    "browser.implicitly_wait(10)"
   ]
  },
  {
   "cell_type": "code",
   "execution_count": null,
   "metadata": {},
   "outputs": [],
   "source": [
    "id = \"\" # 아이디 입력\n",
    "password = \"\" # 비밀번호 입력\n",
    "\n",
    "browser.execute_script(f\"document.getElementsByName('id')[0].value='{id}'\")\n",
    "time.sleep(1)\n",
    "\n",
    "browser.execute_script(f\"document.getElementsByName('pw')[0].value='{password}'\")\n",
    "time.sleep(1)\n",
    "browser.find_element(By.XPATH, '//*[@id=\"log.login\"]').click()"
   ]
  },
  {
   "cell_type": "markdown",
   "metadata": {},
   "source": [
    "### 2. 옵션 설정 요소들 "
   ]
  },
  {
   "cell_type": "code",
   "execution_count": null,
   "metadata": {},
   "outputs": [],
   "source": [
    "# 크기 조절\n",
    "\n",
    "customOption.add_argument('--window-size= x, y')"
   ]
  },
  {
   "cell_type": "code",
   "execution_count": null,
   "metadata": {},
   "outputs": [],
   "source": [
    "# 음소거\n",
    "\n",
    "customOption.add_argument('--mute-audio')"
   ]
  },
  {
   "cell_type": "code",
   "execution_count": null,
   "metadata": {},
   "outputs": [],
   "source": [
    "# 백그라운드 오픈 x\n",
    "\n",
    "customOption.add_argument('--headless')"
   ]
  },
  {
   "cell_type": "code",
   "execution_count": null,
   "metadata": {},
   "outputs": [],
   "source": [
    "# 브라우저 최대화\n",
    "\n",
    "customOption.add_argument('--start-maximized')\n",
    "\n",
    "# f11 최대화\n",
    "\n",
    "customOption.add_argument('--start-fullscreen')"
   ]
  },
  {
   "cell_type": "code",
   "execution_count": null,
   "metadata": {},
   "outputs": [],
   "source": [
    "# 유저 에이전트 밖꾹기\n",
    "\n",
    "customOption.add_argument('user-agent=Mozilla/5.0 (Windows NT 6.1; WOW64; Trident/7.0; rv:11.0) like Gecko')"
   ]
  }
 ],
 "metadata": {
  "kernelspec": {
   "display_name": "Python 3",
   "language": "python",
   "name": "python3"
  },
  "language_info": {
   "codemirror_mode": {
    "name": "ipython",
    "version": 3
   },
   "file_extension": ".py",
   "mimetype": "text/x-python",
   "name": "python",
   "nbconvert_exporter": "python",
   "pygments_lexer": "ipython3",
   "version": "3.11.2"
  },
  "orig_nbformat": 4
 },
 "nbformat": 4,
 "nbformat_minor": 2
}
