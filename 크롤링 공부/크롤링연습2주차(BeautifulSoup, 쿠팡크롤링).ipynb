{
 "cells": [
  {
   "cell_type": "markdown",
   "id": "96b9c6d2",
   "metadata": {},
   "source": [
    "### 리뷰, 평점이 높은 애플제품이 아니고, 광고가 아닌 노트북을 구매한다고 가정\n",
    "#### url에는 post와 get 방식 존재\n",
    "#### post는 가려져 있어 어려움\n",
    "#### get방식은 페이지 이동 시 url주소도 바뀜"
   ]
  },
  {
   "cell_type": "code",
   "execution_count": 2,
   "id": "703f6f98",
   "metadata": {},
   "outputs": [],
   "source": [
    "import requests\n",
    "from bs4 import BeautifulSoup\n",
    "import re\n",
    "headers = {'User-Agent' : \"Mozilla/5.0 (Windows NT 10.0; Win64; x64) AppleWebKit/537.36 (KHTML, like Gecko) Chrome/104.0.0.0 Safari/537.36\",\"Accept-Language\": \"ko-KR,ko;q=0.8,en-US;q=0.5,en;q=0.3\"}"
   ]
  },
  {
   "cell_type": "code",
   "execution_count": 3,
   "id": "569a84b4",
   "metadata": {},
   "outputs": [],
   "source": [
    "url = 'https://www.coupang.com/np/search?q=%EB%85%B8%ED%8A%B8%EB%B6%81&channel=user&component=&eventCategory=SRP&trcid=&traid=&sorter=scoreDesc&minPrice=&maxPrice=&priceRange=&filterType=&listSize=36&filter=&isPriceRange=false&brand=&offerCondition=&rating=0&page=1&rocketAll=false&searchIndexingToken=1=4&backgroundColor='"
   ]
  },
  {
   "cell_type": "code",
   "execution_count": null,
   "id": "a3508f5f",
   "metadata": {},
   "outputs": [],
   "source": [
    "res = requests.get(url)\n",
    "res.raise_for_status()\n",
    "soup = BeautifulSoup(res.text,'lxml')"
   ]
  },
  {
   "cell_type": "code",
   "execution_count": null,
   "id": "32a394d2",
   "metadata": {},
   "outputs": [],
   "source": [
    "items = soup.find_all('li', attrs={'class':re.compile('^search-product')})\n",
    "print(itmes[0].find('div',attrs={'class':'name'}),get_text())"
   ]
  },
  {
   "cell_type": "code",
   "execution_count": null,
   "id": "a4698ca5",
   "metadata": {},
   "outputs": [],
   "source": [
    "for i in items:\n",
    "    #광고 제품은 제외\n",
    "    ad_badge = i.find('span',attrs={'class':'ad-badge-text'})\n",
    "    if ad_badge:\n",
    "        print('광고상품제외')\n",
    "        continue\n",
    "        \n",
    "    name = i.find('div',attrs={'class':'name'}),get_text() #제품명\n",
    "    #애플 제품 제외\n",
    "    if 'Apple' in name:\n",
    "        print('애플상품제외')\n",
    "        continue\n",
    "    \n",
    "    price = i.find('strong', attrs={'class':'price-value'}).get_text() #가격\n",
    "    \n",
    "    rate = i.find('em', attrs={'class':'rating'}) #평점, 출력값(예: 4.5)\n",
    "    if rate:\n",
    "        rate = rate.get_text()\n",
    "    else:\n",
    "        print('평점없는상품제외')\n",
    "        continue\n",
    "        \n",
    "    rate_cnt = i.find('span', attrs={'class':'rating-total-count'}) #평점 수, 출력값(예: (26))\n",
    "    if rate_cnt:\n",
    "        rate_cnt = rate_cnt.get_text()\n",
    "        rate_cnt = rate_cnt[1:-1] #1번째 글자부터 마지막맨앞까지 출력. 즉, 괄호를 없애줌 \n",
    "    else:\n",
    "        print('평점수없는상품제외')\n",
    "        continue\n",
    "    \n",
    "    #리뷰 100개 이상이면서 평점 4.5 이상 되는 것만 조회\n",
    "    if float(rate)>= 4.5 & int(rate_cnt) >= 50:\n",
    "        print(name,price,rate,rate_cnt)"
   ]
  },
  {
   "cell_type": "markdown",
   "id": "7ded367c",
   "metadata": {},
   "source": [
    "### 위 코드는 첫 페이지만 크롤링한 결과임"
   ]
  },
  {
   "cell_type": "markdown",
   "id": "70b84d91",
   "metadata": {},
   "source": [
    "### 5페이지까지 출력해보기"
   ]
  },
  {
   "cell_type": "code",
   "execution_count": null,
   "id": "3dc44990",
   "metadata": {},
   "outputs": [],
   "source": []
  }
 ],
 "metadata": {
  "kernelspec": {
   "display_name": "Python 3",
   "language": "python",
   "name": "python3"
  },
  "language_info": {
   "codemirror_mode": {
    "name": "ipython",
    "version": 3
   },
   "file_extension": ".py",
   "mimetype": "text/x-python",
   "name": "python",
   "nbconvert_exporter": "python",
   "pygments_lexer": "ipython3",
   "version": "3.8.8"
  }
 },
 "nbformat": 4,
 "nbformat_minor": 5
}
